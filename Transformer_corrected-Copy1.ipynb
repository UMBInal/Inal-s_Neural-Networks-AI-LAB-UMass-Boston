{
 "cells": [
  {
   "cell_type": "code",
   "execution_count": 1,
   "id": "648efb27",
   "metadata": {},
   "outputs": [],
   "source": [
    "import numpy as np\n",
    "import pandas as pd\n",
    "from sklearn.model_selection import train_test_split\n",
    "from tensorflow import keras\n",
    "from tensorflow.keras import layers\n",
    "from tensorflow.keras.models import load_model\n",
    "from tensorflow.keras.optimizers import Adam\n",
    "from tensorflow.keras.callbacks import ReduceLROnPlateau\n",
    "from sklearn.metrics import confusion_matrix\n",
    "import seaborn as sns\n",
    "import matplotlib.pyplot as plt"
   ]
  },
  {
   "cell_type": "code",
   "execution_count": 2,
   "id": "4927e550",
   "metadata": {},
   "outputs": [],
   "source": [
    "# Function to read the data\n",
    "def read_data(filename):\n",
    "    data = pd.read_csv(filename, header=None)\n",
    "    features = data.iloc[:, :-1].values\n",
    "    labels = data.iloc[:, -1].values - 1  # Shift the class labels to 0-25\n",
    "    return features, labels\n",
    "\n",
    "# Read the data\n",
    "data_url = \"https://raw.githubusercontent.com/UMBInal/data/main/data.csv\"\n",
    "x, y = read_data(data_url)"
   ]
  },
  {
   "cell_type": "code",
   "execution_count": 3,
   "id": "4094560c",
   "metadata": {},
   "outputs": [],
   "source": [
    "# Split the data into training, validation, and testing sets\n",
    "x_train, x_test, y_train, y_test = train_test_split(x, y, test_size=0.1, random_state=42)\n",
    "x_train, x_val, y_train, y_val = train_test_split(x_train, y_train, test_size=0.2, random_state=42)"
   ]
  },
  {
   "cell_type": "code",
   "execution_count": 4,
   "id": "f85d6137",
   "metadata": {},
   "outputs": [],
   "source": [
    "# Reshape the data\n",
    "x_train = x_train.reshape((x_train.shape[0], x_train.shape[1], 1))\n",
    "x_val = x_val.reshape((x_val.shape[0], x_val.shape[1], 1))\n",
    "x_test = x_test.reshape((x_test.shape[0], x_test.shape[1], 1))"
   ]
  },
  {
   "cell_type": "code",
   "execution_count": 5,
   "id": "a85babd4",
   "metadata": {},
   "outputs": [],
   "source": [
    "# Determine the input shape and number of classes\n",
    "input_shape = (x_train.shape[1], 1)\n",
    "num_classes = len(np.unique(y))"
   ]
  },
  {
   "cell_type": "code",
   "execution_count": 6,
   "id": "852d1ead",
   "metadata": {},
   "outputs": [],
   "source": [
    "# Transformer Encoder function\n",
    "def transformer_encoder(inputs, head_size, num_heads, ff_dim, dropout=0):\n",
    "    x = layers.MultiHeadAttention(key_dim=head_size, num_heads=num_heads, dropout=dropout)(inputs, inputs)\n",
    "    x = layers.Dropout(dropout)(x)\n",
    "    x = layers.LayerNormalization(epsilon=1e-6)(x)\n",
    "    res = x + inputs\n",
    "\n",
    "    # Feed-forward network\n",
    "    x = layers.Dense(ff_dim, activation=\"relu\")(res)\n",
    "    x = layers.Dropout(dropout)(x)\n",
    "\n",
    "    x = layers.Dense(256, activation=\"relu\")(res)\n",
    "    x = layers.Dropout(dropout)(x)\n",
    "        \n",
    "    x = layers.Dense(256, activation=\"relu\")(res)\n",
    "    x = layers.Dropout(dropout)(x)\n",
    "    \n",
    "    x = layers.Dense(256, activation=\"relu\")(res)\n",
    "    x = layers.Dropout(dropout)(x)\n",
    "    \n",
    "    x = layers.Dense(inputs.shape[-1], activation = 'softmax')(x)\n",
    "    x = layers.LayerNormalization(epsilon=1e-6)(x)\n",
    "\n",
    "    return x + res"
   ]
  },
  {
   "cell_type": "code",
   "execution_count": 7,
   "id": "821cfbc4",
   "metadata": {},
   "outputs": [],
   "source": [
    "# Transformer Decoder function\n",
    "def transformer_decoder(inputs, enc_outputs, head_size, num_heads, ff_dim, dropout=0):\n",
    "    x = layers.MultiHeadAttention(key_dim=head_size, num_heads=num_heads, dropout=dropout)(inputs, inputs)\n",
    "    x = layers.Dropout(dropout)(x)\n",
    "    x = layers.LayerNormalization(epsilon=1e-6)(x)\n",
    "    res = x + inputs\n",
    "\n",
    "    x = layers.MultiHeadAttention(key_dim=head_size, num_heads=num_heads, dropout=dropout)(res, enc_outputs)\n",
    "    x = layers.Dropout(dropout)(x)\n",
    "    x = layers.LayerNormalization(epsilon=1e-6)(x)\n",
    "    x = x + res\n",
    "\n",
    "    # Feed-forward network\n",
    "    x = layers.Dense(ff_dim, activation=\"relu\")(x)\n",
    "    x = layers.Dropout(dropout)(x)\n",
    "    \n",
    "    x = layers.Dense(256, activation=\"relu\")(res)\n",
    "    x = layers.Dropout(dropout)(x)\n",
    "    \n",
    "    x = layers.Dense(256, activation=\"relu\")(res)\n",
    "    x = layers.Dropout(dropout)(x)\n",
    "        \n",
    "    x = layers.Dense(256, activation=\"relu\")(res)\n",
    "    x = layers.Dropout(dropout)(x)\n",
    "    \n",
    "    x = layers.Dense(inputs.shape[-1], activation=\"softmax\")(x)\n",
    "    x = layers.LayerNormalization(epsilon=1e-6)(x)\n",
    "\n",
    "    return x + res\n"
   ]
  },
  {
   "cell_type": "code",
   "execution_count": 8,
   "id": "83a5ee65",
   "metadata": {},
   "outputs": [],
   "source": [
    "# Build the model\n",
    "def build_model(input_shape, head_size, num_heads, ff_dim, num_transformer_blocks, mlp_units, dropout=0, mlp_dropout=0):\n",
    "    inputs = keras.Input(shape=input_shape)\n",
    "    x = inputs\n",
    "\n",
    "    # Encoder\n",
    "    for _ in range(num_transformer_blocks):\n",
    "        x = transformer_encoder(x, head_size, num_heads, ff_dim, dropout)\n",
    "\n",
    "    # Decoder\n",
    "    decoder_input = keras.Input(shape=input_shape)\n",
    "    dec = decoder_input\n",
    "    for _ in range(num_transformer_blocks):\n",
    "        dec = transformer_decoder(dec, x, head_size, num_heads, ff_dim, dropout)\n",
    "\n",
    "    x = layers.Flatten()(x)\n",
    "    dec = layers.Flatten()(dec)\n",
    "    x = layers.Concatenate()([x, dec])\n",
    "\n",
    "    for dim in mlp_units:\n",
    "        x = layers.Dense(dim, activation=\"relu\")(x)\n",
    "        x = layers.Dropout(mlp_dropout)(x)\n",
    "\n",
    "    outputs = layers.Dense(num_classes, activation=\"softmax\")(x)\n",
    "\n",
    "    model = keras.Model([inputs, decoder_input], outputs)\n",
    "    return model"
   ]
  },
  {
   "cell_type": "code",
   "execution_count": 9,
   "id": "e0fbb090",
   "metadata": {},
   "outputs": [],
   "source": [
    "# Define the hyperparameters\n",
    "\n",
    "head_size = 4\n",
    "num_heads = 12\n",
    "ff_dim = 256\n",
    "num_transformer_blocks = 8\n",
    "mlp_units = [256]\n",
    "dropout = 0.1\n",
    "mlp_dropout = 0.1\n",
    "initial_lr = 0.001"
   ]
  },
  {
   "cell_type": "code",
   "execution_count": 10,
   "id": "bc9ab8d4",
   "metadata": {},
   "outputs": [],
   "source": [
    "# Build the model\n",
    "model = build_model(input_shape, head_size, num_heads, ff_dim, num_transformer_blocks, mlp_units, dropout, mlp_dropout)"
   ]
  },
  {
   "cell_type": "code",
   "execution_count": 11,
   "id": "1be8dda2",
   "metadata": {},
   "outputs": [],
   "source": [
    "# Create the optimizer with the initial learning rate\n",
    "optimizer = Adam(learning_rate=initial_lr)"
   ]
  },
  {
   "cell_type": "code",
   "execution_count": 12,
   "id": "ee475394",
   "metadata": {},
   "outputs": [],
   "source": [
    "# Compile the model\n",
    "model.compile(optimizer=optimizer, loss=\"sparse_categorical_crossentropy\", metrics=[\"accuracy\"])"
   ]
  },
  {
   "cell_type": "code",
   "execution_count": 13,
   "id": "ccec26a5",
   "metadata": {},
   "outputs": [],
   "source": [
    "# Create the ReduceLROnPlateau callback\n",
    "lr_callback = ReduceLROnPlateau(factor=0.1, patience=10)"
   ]
  },
  {
   "cell_type": "code",
   "execution_count": null,
   "id": "04d008ab",
   "metadata": {},
   "outputs": [
    {
     "name": "stdout",
     "output_type": "stream",
     "text": [
      "Epoch 1/800\n",
      "413/413 [==============================] - 43s 57ms/step - loss: 1.6772 - accuracy: 0.5110 - val_loss: 1.3420 - val_accuracy: 0.5693 - lr: 0.0010\n",
      "Epoch 2/800\n",
      "413/413 [==============================] - 21s 51ms/step - loss: 1.3081 - accuracy: 0.5753 - val_loss: 1.2419 - val_accuracy: 0.5801 - lr: 0.0010\n",
      "Epoch 3/800\n",
      "413/413 [==============================] - 21s 51ms/step - loss: 1.2409 - accuracy: 0.5901 - val_loss: 1.1909 - val_accuracy: 0.6143 - lr: 0.0010\n",
      "Epoch 4/800\n",
      "413/413 [==============================] - 22s 53ms/step - loss: 1.2015 - accuracy: 0.6010 - val_loss: 1.1533 - val_accuracy: 0.6198 - lr: 0.0010\n",
      "Epoch 5/800\n",
      "157/413 [==========>...................] - ETA: 12s - loss: 1.1778 - accuracy: 0.6069"
     ]
    }
   ],
   "source": [
    "# Train the model\n",
    "model.fit([x_train, x_train], y_train,\n",
    "          batch_size=64, epochs=800,\n",
    "          validation_data=([x_val, x_val], y_val), callbacks=[lr_callback])"
   ]
  },
  {
   "cell_type": "code",
   "execution_count": null,
   "id": "2a76ef34",
   "metadata": {},
   "outputs": [],
   "source": [
    "# Evaluate the model\n",
    "loss, accuracy = model.evaluate([x_test, x_test], y_test)\n",
    "print(f\"Test loss: {loss}, Test accuracy: {accuracy}\")"
   ]
  },
  {
   "cell_type": "code",
   "execution_count": null,
   "id": "22bdc728",
   "metadata": {},
   "outputs": [],
   "source": [
    "# Evaluate the model\n",
    "y_pred = model.predict([x_test, x_test])\n",
    "y_pred = np.argmax(y_pred, axis=1)  # Convert probabilities to class labels"
   ]
  },
  {
   "cell_type": "code",
   "execution_count": null,
   "id": "612f273c",
   "metadata": {},
   "outputs": [],
   "source": [
    "# Generate the confusion matrix\n",
    "cm = confusion_matrix(y_test, y_pred)"
   ]
  },
  {
   "cell_type": "code",
   "execution_count": null,
   "id": "a005cd0b",
   "metadata": {},
   "outputs": [],
   "source": [
    "# Plot the confusion matrix\n",
    "class_names = np.unique(y)\n",
    "fig, ax = plt.subplots(figsize=(8, 6))\n",
    "sns.heatmap(cm, annot=True, fmt=\"d\", cmap=\"Blues\", xticklabels=class_names, yticklabels=class_names, ax=ax)\n",
    "ax.set_xlabel('Predicted')\n",
    "ax.set_ylabel('Actual')\n",
    "plt.show()"
   ]
  },
  {
   "cell_type": "code",
   "execution_count": null,
   "id": "3a25c86a",
   "metadata": {},
   "outputs": [],
   "source": [
    "# Save the trained model\n",
    "# model.save(\"my_model_03.h5\")"
   ]
  }
 ],
 "metadata": {
  "kernelspec": {
   "display_name": "Python 3 (ipykernel)",
   "language": "python",
   "name": "python3"
  },
  "language_info": {
   "codemirror_mode": {
    "name": "ipython",
    "version": 3
   },
   "file_extension": ".py",
   "mimetype": "text/x-python",
   "name": "python",
   "nbconvert_exporter": "python",
   "pygments_lexer": "ipython3",
   "version": "3.10.7"
  }
 },
 "nbformat": 4,
 "nbformat_minor": 5
}
