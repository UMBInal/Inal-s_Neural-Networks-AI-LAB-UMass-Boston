{
 "cells": [
  {
   "cell_type": "code",
   "execution_count": 1,
   "id": "dd77aa5b",
   "metadata": {
    "id": "dd77aa5b"
   },
   "outputs": [],
   "source": [
    "import numpy as np\n",
    "import pandas as pd\n",
    "import tensorflow as tf\n",
    "from sklearn.model_selection import train_test_split\n",
    "from tensorflow import keras\n",
    "from tensorflow.keras import layers\n",
    "from tensorflow.keras.models import load_model\n",
    "from tensorflow.keras.optimizers import Adam\n",
    "from tensorflow.keras.callbacks import ReduceLROnPlateau, EarlyStopping\n",
    "from sklearn.metrics import confusion_matrix\n",
    "import seaborn as sns\n",
    "import matplotlib.pyplot as plt\n",
    "import time"
   ]
  },
  {
   "cell_type": "code",
   "execution_count": 2,
   "id": "f9d20c5d",
   "metadata": {},
   "outputs": [
    {
     "name": "stdout",
     "output_type": "stream",
     "text": [
      "Num GPUs Available:  1\n"
     ]
    }
   ],
   "source": [
    "print(\"Num GPUs Available: \", len(tf.config.experimental.list_physical_devices('GPU')))"
   ]
  },
  {
   "cell_type": "code",
   "execution_count": 3,
   "id": "f16df2f1",
   "metadata": {
    "id": "f16df2f1"
   },
   "outputs": [],
   "source": [
    "# Function to read the data\n",
    "def read_data(filename):\n",
    "    data = pd.read_csv(filename, header=None)\n",
    "    features = data.iloc[:, :-1].values\n",
    "    labels = data.iloc[:, -1].values - 1  # Shift the class labels to 0-4\n",
    "    return features, labels\n",
    "\n",
    "# Read the data\n",
    "data_url = \"https://raw.githubusercontent.com/UMBInal/data/main/data2.csv\"\n",
    "x, y = read_data(data_url)"
   ]
  },
  {
   "cell_type": "code",
   "execution_count": 4,
   "id": "3eb86201",
   "metadata": {},
   "outputs": [
    {
     "data": {
      "text/plain": [
       "(36670, 10)"
      ]
     },
     "execution_count": 4,
     "metadata": {},
     "output_type": "execute_result"
    }
   ],
   "source": [
    "x.shape"
   ]
  },
  {
   "cell_type": "code",
   "execution_count": 5,
   "id": "6b640bf8",
   "metadata": {},
   "outputs": [
    {
     "data": {
      "text/plain": [
       "(36670,)"
      ]
     },
     "execution_count": 5,
     "metadata": {},
     "output_type": "execute_result"
    }
   ],
   "source": [
    "y.shape"
   ]
  },
  {
   "cell_type": "code",
   "execution_count": 6,
   "id": "9650592c",
   "metadata": {},
   "outputs": [
    {
     "data": {
      "text/plain": [
       "array([0, 1, 2, 3, 4], dtype=int64)"
      ]
     },
     "execution_count": 6,
     "metadata": {},
     "output_type": "execute_result"
    }
   ],
   "source": [
    "np.unique(y)"
   ]
  },
  {
   "cell_type": "code",
   "execution_count": 7,
   "id": "0edc69b6",
   "metadata": {},
   "outputs": [
    {
     "data": {
      "text/plain": [
       "array([0.01176471, 0.01176471, 0.97647059, 0.        , 0.        ,\n",
       "       0.        , 0.        , 0.        , 0.        , 0.        ])"
      ]
     },
     "execution_count": 7,
     "metadata": {},
     "output_type": "execute_result"
    }
   ],
   "source": [
    "x[0]"
   ]
  },
  {
   "cell_type": "code",
   "execution_count": 8,
   "id": "b4eec323",
   "metadata": {},
   "outputs": [
    {
     "data": {
      "text/plain": [
       "0"
      ]
     },
     "execution_count": 8,
     "metadata": {},
     "output_type": "execute_result"
    }
   ],
   "source": [
    "y[0]"
   ]
  },
  {
   "cell_type": "code",
   "execution_count": 9,
   "id": "9db6440b",
   "metadata": {
    "id": "9db6440b"
   },
   "outputs": [],
   "source": [
    "# Split the data into training, validation, and testing sets\n",
    "x_train, x_test, y_train, y_test = train_test_split(x, y, test_size=0.1, random_state=42)\n",
    "x_train, x_val, y_train, y_val = train_test_split(x_train, y_train, test_size=0.2, random_state=42)"
   ]
  },
  {
   "cell_type": "code",
   "execution_count": 10,
   "id": "0b135163",
   "metadata": {
    "id": "0b135163"
   },
   "outputs": [],
   "source": [
    "# Reshape the data\n",
    "x_train = x_train.reshape((x_train.shape[0], x_train.shape[1], 1))\n",
    "x_val = x_val.reshape((x_val.shape[0], x_val.shape[1], 1))\n",
    "x_test = x_test.reshape((x_test.shape[0], x_test.shape[1], 1))"
   ]
  },
  {
   "cell_type": "code",
   "execution_count": 11,
   "id": "936243fe",
   "metadata": {
    "id": "936243fe"
   },
   "outputs": [],
   "source": [
    "# Determine the input shape and number of classes\n",
    "input_shape = (x_train.shape[1], 1)\n",
    "num_classes = len(np.unique(y))"
   ]
  },
  {
   "cell_type": "code",
   "execution_count": 12,
   "id": "4cb2989e",
   "metadata": {},
   "outputs": [
    {
     "data": {
      "text/plain": [
       "5"
      ]
     },
     "execution_count": 12,
     "metadata": {},
     "output_type": "execute_result"
    }
   ],
   "source": [
    "num_classes"
   ]
  },
  {
   "cell_type": "code",
   "execution_count": 13,
   "id": "26c6890e",
   "metadata": {},
   "outputs": [
    {
     "data": {
      "text/plain": [
       "(10, 1)"
      ]
     },
     "execution_count": 13,
     "metadata": {},
     "output_type": "execute_result"
    }
   ],
   "source": [
    "input_shape"
   ]
  },
  {
   "cell_type": "code",
   "execution_count": 14,
   "id": "859aa647",
   "metadata": {},
   "outputs": [
    {
     "data": {
      "text/plain": [
       "(26402, 10, 1)"
      ]
     },
     "execution_count": 14,
     "metadata": {},
     "output_type": "execute_result"
    }
   ],
   "source": [
    "x_train.shape"
   ]
  },
  {
   "cell_type": "code",
   "execution_count": 15,
   "id": "eab565dd",
   "metadata": {},
   "outputs": [
    {
     "data": {
      "text/plain": [
       "(26402,)"
      ]
     },
     "execution_count": 15,
     "metadata": {},
     "output_type": "execute_result"
    }
   ],
   "source": [
    "y_train.shape"
   ]
  },
  {
   "cell_type": "code",
   "execution_count": 16,
   "id": "ab950213",
   "metadata": {},
   "outputs": [
    {
     "data": {
      "text/plain": [
       "array([[0.03571429],\n",
       "       [0.02142857],\n",
       "       [0.91428571],\n",
       "       [0.        ],\n",
       "       [0.        ],\n",
       "       [0.        ],\n",
       "       [0.        ],\n",
       "       [0.00714286],\n",
       "       [0.00714286],\n",
       "       [0.01428571]])"
      ]
     },
     "execution_count": 16,
     "metadata": {},
     "output_type": "execute_result"
    }
   ],
   "source": [
    "x_train[0]"
   ]
  },
  {
   "cell_type": "code",
   "execution_count": 17,
   "id": "7f11432f",
   "metadata": {},
   "outputs": [
    {
     "data": {
      "text/plain": [
       "0"
      ]
     },
     "execution_count": 17,
     "metadata": {},
     "output_type": "execute_result"
    }
   ],
   "source": [
    "y_train[0]"
   ]
  },
  {
   "cell_type": "code",
   "execution_count": 18,
   "id": "cd51204b",
   "metadata": {
    "id": "cd51204b"
   },
   "outputs": [],
   "source": [
    "# Transformer Encoder function with dropout and L2 regularization\n",
    "def transformer_encoder(inputs, head_size, num_heads, ff_dim, dropout=0.1, l2_reg=0.01):\n",
    "    \n",
    "    x = layers.MultiHeadAttention(key_dim=head_size, num_heads=num_heads, dropout=dropout)(inputs, inputs)\n",
    "    x = layers.Dropout(dropout)(x)\n",
    "    x = layers.LayerNormalization(epsilon=1e-6)(x)\n",
    "    res = x + inputs\n",
    "\n",
    "    # Feed-forward network with dropout and L2 regularization\n",
    "    x = layers.Dense(ff_dim, activation=\"relu\", kernel_regularizer=keras.regularizers.l2(l2_reg))(res)\n",
    "    x = layers.Dropout(dropout)(x)\n",
    "\n",
    "    x = layers.Dense(ff_dim, activation=\"relu\", kernel_regularizer=keras.regularizers.l2(l2_reg))(x)\n",
    "    x = layers.Dropout(dropout)(x)\n",
    "    \n",
    "    x = layers.Dense(ff_dim, activation=\"relu\", kernel_regularizer=keras.regularizers.l2(l2_reg))(x)\n",
    "    x = layers.Dropout(dropout)(x)\n",
    "    \n",
    "    x = layers.Dense(ff_dim, activation=\"relu\", kernel_regularizer=keras.regularizers.l2(l2_reg))(x)\n",
    "    x = layers.Dropout(dropout)(x)\n",
    "    \n",
    "    x = layers.Dense(ff_dim, activation=\"relu\", kernel_regularizer=keras.regularizers.l2(l2_reg))(x)\n",
    "    x = layers.Dropout(dropout)(x)\n",
    "    \n",
    "    x = layers.Dense(ff_dim, activation=\"relu\", kernel_regularizer=keras.regularizers.l2(l2_reg))(x)\n",
    "    x = layers.Dropout(dropout)(x)\n",
    "    \n",
    "    x = layers.Dense(ff_dim, activation=\"relu\", kernel_regularizer=keras.regularizers.l2(l2_reg))(x)\n",
    "    x = layers.Dropout(dropout)(x)\n",
    "    \n",
    "    x = layers.Dense(ff_dim, activation=\"relu\", kernel_regularizer=keras.regularizers.l2(l2_reg))(x)\n",
    "    x = layers.Dropout(dropout)(x)\n",
    "    \n",
    "    x = layers.Dense(ff_dim, activation=\"relu\", kernel_regularizer=keras.regularizers.l2(l2_reg))(x)\n",
    "    x = layers.Dropout(dropout)(x)\n",
    "\n",
    "    x = layers.Dense(inputs.shape[-1], activation = 'softmax')(x)\n",
    "    x = layers.LayerNormalization(epsilon=1e-6)(x)\n",
    "\n",
    "    return x + res"
   ]
  },
  {
   "cell_type": "code",
   "execution_count": 19,
   "id": "9df843aa",
   "metadata": {
    "id": "9df843aa"
   },
   "outputs": [],
   "source": [
    "# Transformer Decoder function\n",
    "def transformer_decoder(inputs, enc_outputs, head_size, num_heads, ff_dim, dropout=0.1, l2_reg=0.01):\n",
    "    x = layers.MultiHeadAttention(key_dim=head_size, num_heads=num_heads, dropout=dropout)(inputs, inputs)\n",
    "    x = layers.Dropout(dropout)(x)\n",
    "    x = layers.LayerNormalization(epsilon=1e-6)(x)\n",
    "    res = x + inputs\n",
    "\n",
    "    x = layers.MultiHeadAttention(key_dim=head_size, num_heads=num_heads, dropout=dropout)(res, enc_outputs)\n",
    "    x = layers.Dropout(dropout)(x)\n",
    "    x = layers.LayerNormalization(epsilon=1e-6)(x)\n",
    "    x = x + res\n",
    "\n",
    "    # Feed-forward network\n",
    "    x = layers.Dense(ff_dim, activation=\"relu\", kernel_regularizer=keras.regularizers.l2(l2_reg))(x)\n",
    "    x = layers.Dropout(dropout)(x)\n",
    "    \n",
    "    x = layers.Dense(ff_dim, activation=\"relu\", kernel_regularizer=keras.regularizers.l2(l2_reg))(x)\n",
    "    x = layers.Dropout(dropout)(x)\n",
    "    \n",
    "    x = layers.Dense(ff_dim, activation=\"relu\", kernel_regularizer=keras.regularizers.l2(l2_reg))(x)\n",
    "    x = layers.Dropout(dropout)(x)\n",
    "    \n",
    "    x = layers.Dense(ff_dim, activation=\"relu\", kernel_regularizer=keras.regularizers.l2(l2_reg))(x)\n",
    "    x = layers.Dropout(dropout)(x)\n",
    "    \n",
    "    x = layers.Dense(ff_dim, activation=\"relu\", kernel_regularizer=keras.regularizers.l2(l2_reg))(x)\n",
    "    x = layers.Dropout(dropout)(x)\n",
    "    \n",
    "    x = layers.Dense(ff_dim, activation=\"relu\", kernel_regularizer=keras.regularizers.l2(l2_reg))(x)\n",
    "    x = layers.Dropout(dropout)(x)\n",
    "    \n",
    "    x = layers.Dense(ff_dim, activation=\"relu\", kernel_regularizer=keras.regularizers.l2(l2_reg))(x)\n",
    "    x = layers.Dropout(dropout)(x)\n",
    "    \n",
    "    x = layers.Dense(ff_dim, activation=\"relu\", kernel_regularizer=keras.regularizers.l2(l2_reg))(x)\n",
    "    x = layers.Dropout(dropout)(x)\n",
    "    \n",
    "    x = layers.Dense(ff_dim, activation=\"relu\", kernel_regularizer=keras.regularizers.l2(l2_reg))(x)\n",
    "    x = layers.Dropout(dropout)(x)\n",
    "\n",
    "    x = layers.Dense(inputs.shape[-1], activation = 'softmax')(x)\n",
    "    x = layers.LayerNormalization(epsilon=1e-6)(x)\n",
    "\n",
    "    return x + res\n"
   ]
  },
  {
   "cell_type": "code",
   "execution_count": 20,
   "id": "d9851305",
   "metadata": {
    "id": "d9851305"
   },
   "outputs": [],
   "source": [
    "# Build the model\n",
    "def build_model(input_shape, head_size, num_heads, ff_dim, num_transformer_blocks, mlp_units, dropout=0, mlp_dropout=0, l2_reg=0):\n",
    "    inputs = keras.Input(shape=input_shape)\n",
    "    x = inputs\n",
    "\n",
    "    # Encoder\n",
    "    for _ in range(num_transformer_blocks):\n",
    "        x = transformer_encoder(x, head_size, num_heads, ff_dim, dropout, l2_reg)\n",
    "\n",
    "        \n",
    "    # Decoder\n",
    "    decoder_input = keras.Input(shape=input_shape)\n",
    "    dec = decoder_input\n",
    "    for _ in range(num_transformer_blocks):\n",
    "        dec = transformer_decoder(dec, x, head_size, num_heads, ff_dim, dropout, l2_reg)\n",
    "\n",
    "    x = layers.Flatten()(x)\n",
    "    dec = layers.Flatten()(dec)\n",
    "    x = layers.Concatenate()([x, dec])\n",
    "\n",
    "    for dim in mlp_units:\n",
    "        x = layers.Dense(dim, activation=\"relu\")(x)\n",
    "        x = layers.Dropout(mlp_dropout)(x)\n",
    "\n",
    "    outputs = layers.Dense(num_classes, activation=\"softmax\")(x)\n",
    "\n",
    "    model = keras.Model([inputs, decoder_input], outputs)\n",
    "    return model"
   ]
  },
  {
   "cell_type": "code",
   "execution_count": 21,
   "id": "1d648db6",
   "metadata": {
    "id": "1d648db6"
   },
   "outputs": [],
   "source": [
    "# Define the hyperparameters\n",
    "\n",
    "head_size = 2\n",
    "num_heads = 16\n",
    "ff_dim = 512\n",
    "num_transformer_blocks = 6\n",
    "mlp_units = [512]\n",
    "dropout = 0.1\n",
    "mlp_dropout = 0.1\n",
    "initial_lr = 0.001\n",
    "l2_reg=0.01"
   ]
  },
  {
   "cell_type": "code",
   "execution_count": 22,
   "id": "6c794103",
   "metadata": {
    "id": "6c794103"
   },
   "outputs": [],
   "source": [
    "# Build the model\n",
    "model = build_model(input_shape, head_size, num_heads, ff_dim, num_transformer_blocks, mlp_units, dropout, mlp_dropout)"
   ]
  },
  {
   "cell_type": "code",
   "execution_count": 23,
   "id": "64e4c3ef",
   "metadata": {
    "id": "64e4c3ef"
   },
   "outputs": [],
   "source": [
    "# Create the optimizer with the initial learning rate\n",
    "optimizer = Adam(learning_rate=initial_lr)"
   ]
  },
  {
   "cell_type": "code",
   "execution_count": 24,
   "id": "0e19e795",
   "metadata": {
    "id": "0e19e795"
   },
   "outputs": [],
   "source": [
    "# Compile the model\n",
    "model.compile(optimizer=optimizer, loss=\"sparse_categorical_crossentropy\", metrics=[\"accuracy\"])"
   ]
  },
  {
   "cell_type": "code",
   "execution_count": 25,
   "id": "02a51f0f",
   "metadata": {
    "id": "02a51f0f"
   },
   "outputs": [],
   "source": [
    "# Create the ReduceLROnPlateau callback\n",
    "lr_callback = ReduceLROnPlateau(factor=0.1, patience=50)"
   ]
  },
  {
   "cell_type": "code",
   "execution_count": 26,
   "id": "511f6219",
   "metadata": {},
   "outputs": [],
   "source": [
    "# Record the start time\n",
    "start_time = time.time()"
   ]
  },
  {
   "cell_type": "code",
   "execution_count": 27,
   "id": "19d80153",
   "metadata": {},
   "outputs": [
    {
     "name": "stdout",
     "output_type": "stream",
     "text": [
      "Epoch 1/100\n",
      "413/413 [==============================] - 90s 169ms/step - loss: 0.3324 - accuracy: 0.8921 - val_loss: 0.2215 - val_accuracy: 0.9202 - lr: 0.0010\n",
      "Epoch 2/100\n",
      "413/413 [==============================] - 68s 166ms/step - loss: 0.2206 - accuracy: 0.9151 - val_loss: 0.2061 - val_accuracy: 0.9173 - lr: 0.0010\n",
      "Epoch 3/100\n",
      "413/413 [==============================] - 69s 168ms/step - loss: 0.2088 - accuracy: 0.9179 - val_loss: 0.2001 - val_accuracy: 0.9186 - lr: 0.0010\n",
      "Epoch 4/100\n",
      "413/413 [==============================] - 81s 195ms/step - loss: 0.1999 - accuracy: 0.9207 - val_loss: 0.1933 - val_accuracy: 0.9243 - lr: 0.0010\n",
      "Epoch 5/100\n",
      "413/413 [==============================] - 82s 199ms/step - loss: 0.1931 - accuracy: 0.9246 - val_loss: 0.1892 - val_accuracy: 0.9305 - lr: 0.0010\n",
      "Epoch 6/100\n",
      "413/413 [==============================] - 79s 192ms/step - loss: 0.1865 - accuracy: 0.9270 - val_loss: 0.1857 - val_accuracy: 0.9327 - lr: 0.0010\n",
      "Epoch 7/100\n",
      "413/413 [==============================] - 81s 197ms/step - loss: 0.1802 - accuracy: 0.9296 - val_loss: 0.1751 - val_accuracy: 0.9311 - lr: 0.0010\n",
      "Epoch 8/100\n",
      "413/413 [==============================] - 76s 183ms/step - loss: 0.1741 - accuracy: 0.9320 - val_loss: 0.1749 - val_accuracy: 0.9321 - lr: 0.0010\n",
      "Epoch 9/100\n",
      "413/413 [==============================] - 65s 157ms/step - loss: 0.1693 - accuracy: 0.9340 - val_loss: 0.1674 - val_accuracy: 0.9362 - lr: 0.0010\n",
      "Epoch 10/100\n",
      "413/413 [==============================] - 64s 155ms/step - loss: 0.1653 - accuracy: 0.9347 - val_loss: 0.1624 - val_accuracy: 0.9349 - lr: 0.0010\n",
      "Epoch 11/100\n",
      "413/413 [==============================] - 64s 156ms/step - loss: 0.1595 - accuracy: 0.9352 - val_loss: 0.1557 - val_accuracy: 0.9396 - lr: 0.0010\n",
      "Epoch 12/100\n",
      "413/413 [==============================] - 66s 159ms/step - loss: 0.1546 - accuracy: 0.9381 - val_loss: 0.1617 - val_accuracy: 0.9393 - lr: 0.0010\n",
      "Epoch 13/100\n",
      "413/413 [==============================] - 66s 161ms/step - loss: 0.1516 - accuracy: 0.9388 - val_loss: 0.1535 - val_accuracy: 0.9447 - lr: 0.0010\n",
      "Epoch 14/100\n",
      "413/413 [==============================] - 65s 157ms/step - loss: 0.1486 - accuracy: 0.9403 - val_loss: 0.1468 - val_accuracy: 0.9418 - lr: 0.0010\n",
      "Epoch 15/100\n",
      "413/413 [==============================] - 65s 157ms/step - loss: 0.1445 - accuracy: 0.9403 - val_loss: 0.1425 - val_accuracy: 0.9432 - lr: 0.0010\n",
      "Epoch 16/100\n",
      "413/413 [==============================] - 65s 158ms/step - loss: 0.1423 - accuracy: 0.9413 - val_loss: 0.1367 - val_accuracy: 0.9436 - lr: 0.0010\n",
      "Epoch 17/100\n",
      "413/413 [==============================] - 65s 156ms/step - loss: 0.1379 - accuracy: 0.9426 - val_loss: 0.1364 - val_accuracy: 0.9473 - lr: 0.0010\n",
      "Epoch 18/100\n",
      "413/413 [==============================] - 64s 155ms/step - loss: 0.1338 - accuracy: 0.9438 - val_loss: 0.1363 - val_accuracy: 0.9439 - lr: 0.0010\n",
      "Epoch 19/100\n",
      "413/413 [==============================] - 65s 157ms/step - loss: 0.1313 - accuracy: 0.9456 - val_loss: 0.1321 - val_accuracy: 0.9446 - lr: 0.0010\n",
      "Epoch 20/100\n",
      "413/413 [==============================] - 67s 162ms/step - loss: 0.1293 - accuracy: 0.9456 - val_loss: 0.1329 - val_accuracy: 0.9473 - lr: 0.0010\n",
      "Epoch 21/100\n",
      "413/413 [==============================] - 65s 158ms/step - loss: 0.1263 - accuracy: 0.9466 - val_loss: 0.1220 - val_accuracy: 0.9509 - lr: 0.0010\n",
      "Epoch 22/100\n",
      "413/413 [==============================] - 66s 159ms/step - loss: 0.1231 - accuracy: 0.9483 - val_loss: 0.1220 - val_accuracy: 0.9514 - lr: 0.0010\n",
      "Epoch 23/100\n",
      "413/413 [==============================] - 65s 158ms/step - loss: 0.1210 - accuracy: 0.9493 - val_loss: 0.1176 - val_accuracy: 0.9533 - lr: 0.0010\n",
      "Epoch 24/100\n",
      "413/413 [==============================] - 65s 158ms/step - loss: 0.1178 - accuracy: 0.9514 - val_loss: 0.1134 - val_accuracy: 0.9539 - lr: 0.0010\n",
      "Epoch 25/100\n",
      "413/413 [==============================] - 66s 160ms/step - loss: 0.1156 - accuracy: 0.9528 - val_loss: 0.1200 - val_accuracy: 0.9455 - lr: 0.0010\n",
      "Epoch 26/100\n",
      "413/413 [==============================] - 67s 162ms/step - loss: 0.1140 - accuracy: 0.9527 - val_loss: 0.1146 - val_accuracy: 0.9480 - lr: 0.0010\n",
      "Epoch 27/100\n",
      "413/413 [==============================] - 67s 162ms/step - loss: 0.1118 - accuracy: 0.9542 - val_loss: 0.1060 - val_accuracy: 0.9546 - lr: 0.0010\n",
      "Epoch 28/100\n",
      "413/413 [==============================] - 67s 162ms/step - loss: 0.1102 - accuracy: 0.9546 - val_loss: 0.1066 - val_accuracy: 0.9614 - lr: 0.0010\n",
      "Epoch 29/100\n",
      "413/413 [==============================] - 67s 161ms/step - loss: 0.1072 - accuracy: 0.9571 - val_loss: 0.1054 - val_accuracy: 0.9533 - lr: 0.0010\n",
      "Epoch 30/100\n",
      "413/413 [==============================] - 67s 163ms/step - loss: 0.1055 - accuracy: 0.9569 - val_loss: 0.1116 - val_accuracy: 0.9550 - lr: 0.0010\n",
      "Epoch 31/100\n",
      "413/413 [==============================] - 66s 159ms/step - loss: 0.1037 - accuracy: 0.9577 - val_loss: 0.1050 - val_accuracy: 0.9527 - lr: 0.0010\n",
      "Epoch 32/100\n",
      "413/413 [==============================] - 66s 160ms/step - loss: 0.1027 - accuracy: 0.9595 - val_loss: 0.0973 - val_accuracy: 0.9632 - lr: 0.0010\n",
      "Epoch 33/100\n",
      "413/413 [==============================] - 64s 156ms/step - loss: 0.1004 - accuracy: 0.9601 - val_loss: 0.0984 - val_accuracy: 0.9592 - lr: 0.0010\n",
      "Epoch 34/100\n",
      "413/413 [==============================] - 67s 162ms/step - loss: 0.1007 - accuracy: 0.9601 - val_loss: 0.0958 - val_accuracy: 0.9614 - lr: 0.0010\n",
      "Epoch 35/100\n",
      "413/413 [==============================] - 66s 159ms/step - loss: 0.0977 - accuracy: 0.9626 - val_loss: 0.0945 - val_accuracy: 0.9639 - lr: 0.0010\n",
      "Epoch 36/100\n",
      "413/413 [==============================] - 64s 154ms/step - loss: 0.0970 - accuracy: 0.9619 - val_loss: 0.0899 - val_accuracy: 0.9668 - lr: 0.0010\n",
      "Epoch 37/100\n",
      "413/413 [==============================] - 64s 155ms/step - loss: 0.0953 - accuracy: 0.9630 - val_loss: 0.0886 - val_accuracy: 0.9659 - lr: 0.0010\n",
      "Epoch 38/100\n",
      "413/413 [==============================] - 64s 155ms/step - loss: 0.0944 - accuracy: 0.9637 - val_loss: 0.0905 - val_accuracy: 0.9664 - lr: 0.0010\n",
      "Epoch 39/100\n",
      "413/413 [==============================] - 67s 162ms/step - loss: 0.0923 - accuracy: 0.9639 - val_loss: 0.0882 - val_accuracy: 0.9647 - lr: 0.0010\n",
      "Epoch 40/100\n",
      "413/413 [==============================] - 68s 165ms/step - loss: 0.0907 - accuracy: 0.9647 - val_loss: 0.0863 - val_accuracy: 0.9661 - lr: 0.0010\n",
      "Epoch 41/100\n",
      "413/413 [==============================] - 66s 160ms/step - loss: 0.0895 - accuracy: 0.9664 - val_loss: 0.0871 - val_accuracy: 0.9655 - lr: 0.0010\n",
      "Epoch 42/100\n",
      "413/413 [==============================] - 67s 163ms/step - loss: 0.0886 - accuracy: 0.9658 - val_loss: 0.0811 - val_accuracy: 0.9705 - lr: 0.0010\n",
      "Epoch 43/100\n",
      "413/413 [==============================] - 65s 157ms/step - loss: 0.0871 - accuracy: 0.9669 - val_loss: 0.0838 - val_accuracy: 0.9689 - lr: 0.0010\n",
      "Epoch 44/100\n",
      "413/413 [==============================] - 64s 154ms/step - loss: 0.0869 - accuracy: 0.9672 - val_loss: 0.0823 - val_accuracy: 0.9688 - lr: 0.0010\n",
      "Epoch 45/100\n",
      "413/413 [==============================] - 64s 154ms/step - loss: 0.0852 - accuracy: 0.9684 - val_loss: 0.0793 - val_accuracy: 0.9717 - lr: 0.0010\n",
      "Epoch 46/100\n",
      "413/413 [==============================] - 64s 155ms/step - loss: 0.0854 - accuracy: 0.9691 - val_loss: 0.0797 - val_accuracy: 0.9699 - lr: 0.0010\n",
      "Epoch 47/100\n",
      "413/413 [==============================] - 67s 161ms/step - loss: 0.0847 - accuracy: 0.9672 - val_loss: 0.0782 - val_accuracy: 0.9730 - lr: 0.0010\n",
      "Epoch 48/100\n",
      "413/413 [==============================] - 67s 162ms/step - loss: 0.0839 - accuracy: 0.9684 - val_loss: 0.0782 - val_accuracy: 0.9711 - lr: 0.0010\n",
      "Epoch 49/100\n",
      "413/413 [==============================] - 67s 162ms/step - loss: 0.0816 - accuracy: 0.9689 - val_loss: 0.0773 - val_accuracy: 0.9741 - lr: 0.0010\n",
      "Epoch 50/100\n",
      "413/413 [==============================] - 65s 158ms/step - loss: 0.0822 - accuracy: 0.9702 - val_loss: 0.0733 - val_accuracy: 0.9782 - lr: 0.0010\n",
      "Epoch 51/100\n",
      "413/413 [==============================] - 65s 158ms/step - loss: 0.0816 - accuracy: 0.9696 - val_loss: 0.0729 - val_accuracy: 0.9745 - lr: 0.0010\n",
      "Epoch 52/100\n",
      "413/413 [==============================] - 68s 166ms/step - loss: 0.0794 - accuracy: 0.9703 - val_loss: 0.0721 - val_accuracy: 0.9753 - lr: 0.0010\n",
      "Epoch 53/100\n",
      "413/413 [==============================] - 67s 162ms/step - loss: 0.0793 - accuracy: 0.9705 - val_loss: 0.0750 - val_accuracy: 0.9768 - lr: 0.0010\n",
      "Epoch 54/100\n",
      "413/413 [==============================] - 66s 159ms/step - loss: 0.0774 - accuracy: 0.9720 - val_loss: 0.0694 - val_accuracy: 0.9749 - lr: 0.0010\n",
      "Epoch 55/100\n",
      "413/413 [==============================] - 65s 156ms/step - loss: 0.0758 - accuracy: 0.9716 - val_loss: 0.0703 - val_accuracy: 0.9739 - lr: 0.0010\n",
      "Epoch 56/100\n",
      "413/413 [==============================] - 66s 160ms/step - loss: 0.0789 - accuracy: 0.9707 - val_loss: 0.0746 - val_accuracy: 0.9767 - lr: 0.0010\n",
      "Epoch 57/100\n",
      "413/413 [==============================] - 64s 155ms/step - loss: 0.0773 - accuracy: 0.9728 - val_loss: 0.0741 - val_accuracy: 0.9768 - lr: 0.0010\n",
      "Epoch 58/100\n",
      "413/413 [==============================] - 65s 158ms/step - loss: 0.0746 - accuracy: 0.9737 - val_loss: 0.0651 - val_accuracy: 0.9785 - lr: 0.0010\n",
      "Epoch 59/100\n",
      "413/413 [==============================] - 66s 161ms/step - loss: 0.0746 - accuracy: 0.9730 - val_loss: 0.0739 - val_accuracy: 0.9783 - lr: 0.0010\n",
      "Epoch 60/100\n",
      "413/413 [==============================] - 67s 163ms/step - loss: 0.0742 - accuracy: 0.9739 - val_loss: 0.0652 - val_accuracy: 0.9805 - lr: 0.0010\n",
      "Epoch 61/100\n",
      "413/413 [==============================] - 67s 161ms/step - loss: 0.0744 - accuracy: 0.9720 - val_loss: 0.0687 - val_accuracy: 0.9767 - lr: 0.0010\n",
      "Epoch 62/100\n",
      "413/413 [==============================] - 66s 160ms/step - loss: 0.0731 - accuracy: 0.9736 - val_loss: 0.0636 - val_accuracy: 0.9795 - lr: 0.0010\n",
      "Epoch 63/100\n",
      "413/413 [==============================] - 67s 161ms/step - loss: 0.0735 - accuracy: 0.9738 - val_loss: 0.0721 - val_accuracy: 0.9765 - lr: 0.0010\n",
      "Epoch 64/100\n",
      "413/413 [==============================] - 66s 161ms/step - loss: 0.0722 - accuracy: 0.9742 - val_loss: 0.0647 - val_accuracy: 0.9758 - lr: 0.0010\n",
      "Epoch 65/100\n",
      "413/413 [==============================] - 66s 160ms/step - loss: 0.0722 - accuracy: 0.9745 - val_loss: 0.0625 - val_accuracy: 0.9815 - lr: 0.0010\n",
      "Epoch 66/100\n",
      "413/413 [==============================] - 68s 165ms/step - loss: 0.0694 - accuracy: 0.9755 - val_loss: 0.0634 - val_accuracy: 0.9814 - lr: 0.0010\n",
      "Epoch 67/100\n",
      "413/413 [==============================] - 67s 162ms/step - loss: 0.0694 - accuracy: 0.9751 - val_loss: 0.0616 - val_accuracy: 0.9788 - lr: 0.0010\n",
      "Epoch 68/100\n",
      "413/413 [==============================] - 68s 165ms/step - loss: 0.0690 - accuracy: 0.9754 - val_loss: 0.0622 - val_accuracy: 0.9789 - lr: 0.0010\n",
      "Epoch 69/100\n",
      "413/413 [==============================] - 66s 160ms/step - loss: 0.0702 - accuracy: 0.9760 - val_loss: 0.0574 - val_accuracy: 0.9827 - lr: 0.0010\n",
      "Epoch 70/100\n",
      "413/413 [==============================] - 67s 163ms/step - loss: 0.0704 - accuracy: 0.9750 - val_loss: 0.0609 - val_accuracy: 0.9762 - lr: 0.0010\n",
      "Epoch 71/100\n",
      "413/413 [==============================] - 67s 162ms/step - loss: 0.0690 - accuracy: 0.9747 - val_loss: 0.0595 - val_accuracy: 0.9771 - lr: 0.0010\n",
      "Epoch 72/100\n",
      "413/413 [==============================] - 67s 161ms/step - loss: 0.0691 - accuracy: 0.9753 - val_loss: 0.0599 - val_accuracy: 0.9826 - lr: 0.0010\n",
      "Epoch 73/100\n",
      "413/413 [==============================] - 65s 157ms/step - loss: 0.0680 - accuracy: 0.9758 - val_loss: 0.0586 - val_accuracy: 0.9818 - lr: 0.0010\n",
      "Epoch 74/100\n",
      "413/413 [==============================] - 66s 160ms/step - loss: 0.0654 - accuracy: 0.9770 - val_loss: 0.0621 - val_accuracy: 0.9805 - lr: 0.0010\n",
      "Epoch 75/100\n",
      "413/413 [==============================] - 66s 160ms/step - loss: 0.0675 - accuracy: 0.9763 - val_loss: 0.0632 - val_accuracy: 0.9765 - lr: 0.0010\n",
      "Epoch 76/100\n",
      "413/413 [==============================] - 64s 155ms/step - loss: 0.0641 - accuracy: 0.9772 - val_loss: 0.0641 - val_accuracy: 0.9789 - lr: 0.0010\n",
      "Epoch 77/100\n",
      "413/413 [==============================] - 66s 161ms/step - loss: 0.0654 - accuracy: 0.9763 - val_loss: 0.0538 - val_accuracy: 0.9824 - lr: 0.0010\n",
      "Epoch 78/100\n",
      "413/413 [==============================] - 67s 163ms/step - loss: 0.0654 - accuracy: 0.9763 - val_loss: 0.0557 - val_accuracy: 0.9823 - lr: 0.0010\n",
      "Epoch 79/100\n",
      "413/413 [==============================] - 67s 163ms/step - loss: 0.0654 - accuracy: 0.9769 - val_loss: 0.0563 - val_accuracy: 0.9838 - lr: 0.0010\n",
      "Epoch 80/100\n",
      "413/413 [==============================] - 67s 161ms/step - loss: 0.0653 - accuracy: 0.9768 - val_loss: 0.0595 - val_accuracy: 0.9788 - lr: 0.0010\n",
      "Epoch 81/100\n",
      "413/413 [==============================] - 66s 160ms/step - loss: 0.0637 - accuracy: 0.9774 - val_loss: 0.0618 - val_accuracy: 0.9815 - lr: 0.0010\n",
      "Epoch 82/100\n",
      "413/413 [==============================] - 65s 158ms/step - loss: 0.0630 - accuracy: 0.9777 - val_loss: 0.0523 - val_accuracy: 0.9823 - lr: 0.0010\n",
      "Epoch 83/100\n",
      "413/413 [==============================] - 64s 155ms/step - loss: 0.0627 - accuracy: 0.9781 - val_loss: 0.0566 - val_accuracy: 0.9815 - lr: 0.0010\n",
      "Epoch 84/100\n",
      "413/413 [==============================] - 65s 158ms/step - loss: 0.0650 - accuracy: 0.9772 - val_loss: 0.0550 - val_accuracy: 0.9835 - lr: 0.0010\n",
      "Epoch 85/100\n",
      "413/413 [==============================] - 64s 156ms/step - loss: 0.0624 - accuracy: 0.9785 - val_loss: 0.0554 - val_accuracy: 0.9827 - lr: 0.0010\n",
      "Epoch 86/100\n",
      "413/413 [==============================] - 65s 158ms/step - loss: 0.0620 - accuracy: 0.9782 - val_loss: 0.0544 - val_accuracy: 0.9817 - lr: 0.0010\n",
      "Epoch 87/100\n",
      "413/413 [==============================] - 65s 156ms/step - loss: 0.0631 - accuracy: 0.9772 - val_loss: 0.0561 - val_accuracy: 0.9820 - lr: 0.0010\n",
      "Epoch 88/100\n",
      "413/413 [==============================] - 66s 161ms/step - loss: 0.0632 - accuracy: 0.9786 - val_loss: 0.0522 - val_accuracy: 0.9850 - lr: 0.0010\n",
      "Epoch 89/100\n",
      "413/413 [==============================] - 66s 160ms/step - loss: 0.0638 - accuracy: 0.9777 - val_loss: 0.0578 - val_accuracy: 0.9797 - lr: 0.0010\n",
      "Epoch 90/100\n",
      "413/413 [==============================] - 66s 161ms/step - loss: 0.0597 - accuracy: 0.9795 - val_loss: 0.0519 - val_accuracy: 0.9832 - lr: 0.0010\n",
      "Epoch 91/100\n",
      "413/413 [==============================] - 66s 160ms/step - loss: 0.0616 - accuracy: 0.9778 - val_loss: 0.0523 - val_accuracy: 0.9838 - lr: 0.0010\n",
      "Epoch 92/100\n",
      "413/413 [==============================] - 66s 159ms/step - loss: 0.0598 - accuracy: 0.9792 - val_loss: 0.0560 - val_accuracy: 0.9808 - lr: 0.0010\n",
      "Epoch 93/100\n",
      "413/413 [==============================] - 65s 157ms/step - loss: 0.0606 - accuracy: 0.9794 - val_loss: 0.0495 - val_accuracy: 0.9844 - lr: 0.0010\n",
      "Epoch 94/100\n",
      "413/413 [==============================] - 67s 162ms/step - loss: 0.0617 - accuracy: 0.9781 - val_loss: 0.0496 - val_accuracy: 0.9845 - lr: 0.0010\n",
      "Epoch 95/100\n",
      "413/413 [==============================] - 65s 157ms/step - loss: 0.0623 - accuracy: 0.9781 - val_loss: 0.0485 - val_accuracy: 0.9847 - lr: 0.0010\n",
      "Epoch 96/100\n",
      "413/413 [==============================] - 66s 161ms/step - loss: 0.0588 - accuracy: 0.9791 - val_loss: 0.0470 - val_accuracy: 0.9868 - lr: 0.0010\n",
      "Epoch 97/100\n",
      "413/413 [==============================] - 67s 163ms/step - loss: 0.0571 - accuracy: 0.9797 - val_loss: 0.0481 - val_accuracy: 0.9842 - lr: 0.0010\n",
      "Epoch 98/100\n",
      "413/413 [==============================] - 65s 157ms/step - loss: 0.0592 - accuracy: 0.9784 - val_loss: 0.0498 - val_accuracy: 0.9823 - lr: 0.0010\n",
      "Epoch 99/100\n",
      "413/413 [==============================] - 66s 161ms/step - loss: 0.0590 - accuracy: 0.9788 - val_loss: 0.0494 - val_accuracy: 0.9829 - lr: 0.0010\n",
      "Epoch 100/100\n",
      "413/413 [==============================] - 66s 159ms/step - loss: 0.0584 - accuracy: 0.9795 - val_loss: 0.0484 - val_accuracy: 0.9844 - lr: 0.0010\n"
     ]
    },
    {
     "data": {
      "text/plain": [
       "<keras.callbacks.History at 0x23ff5314910>"
      ]
     },
     "execution_count": 27,
     "metadata": {},
     "output_type": "execute_result"
    }
   ],
   "source": [
    "model.fit([x_train, x_train], y_train,\n",
    "          batch_size=64,\n",
    "          epochs=100,\n",
    "          validation_data=([x_val, x_val], y_val),\n",
    "          callbacks=[lr_callback])"
   ]
  },
  {
   "cell_type": "code",
   "execution_count": 28,
   "id": "3ffe7d0c",
   "metadata": {},
   "outputs": [],
   "source": [
    "# Record the end time\n",
    "end_time = time.time()"
   ]
  },
  {
   "cell_type": "code",
   "execution_count": 29,
   "id": "e8dd9c65",
   "metadata": {},
   "outputs": [
    {
     "name": "stdout",
     "output_type": "stream",
     "text": [
      "Total Running Time: 6683.47 seconds\n"
     ]
    }
   ],
   "source": [
    "# Calculate the total running time\n",
    "running_time = end_time - start_time\n",
    "print(\"Total Running Time: {:.2f} seconds\".format(running_time))"
   ]
  },
  {
   "cell_type": "code",
   "execution_count": 30,
   "id": "23ebca14",
   "metadata": {
    "id": "23ebca14"
   },
   "outputs": [
    {
     "name": "stdout",
     "output_type": "stream",
     "text": [
      "115/115 [==============================] - 7s 63ms/step - loss: 0.0537 - accuracy: 0.9823\n",
      "Test loss: 0.053746163845062256, Test accuracy: 0.9822743535041809\n"
     ]
    }
   ],
   "source": [
    "# Evaluate the model\n",
    "loss, accuracy = model.evaluate([x_test, x_test], y_test)\n",
    "print(f\"Test loss: {loss}, Test accuracy: {accuracy}\")"
   ]
  },
  {
   "cell_type": "code",
   "execution_count": 31,
   "id": "5c19fb4c",
   "metadata": {
    "id": "5c19fb4c"
   },
   "outputs": [
    {
     "name": "stdout",
     "output_type": "stream",
     "text": [
      "115/115 [==============================] - 11s 64ms/step\n"
     ]
    }
   ],
   "source": [
    "# Evaluate the model\n",
    "y_pred = model.predict([x_test, x_test])\n",
    "y_pred = np.argmax(y_pred, axis=1)  # Convert probabilities to class labels"
   ]
  },
  {
   "cell_type": "code",
   "execution_count": 32,
   "id": "12c244ed",
   "metadata": {},
   "outputs": [],
   "source": [
    "# Define the label mapping\n",
    "label_mapping = {\n",
    "    0: 'Sed.',\n",
    "    1: 'LHH',\n",
    "    2: 'MtV',\n",
    "    3: 'Walk',\n",
    "    4: 'Run'\n",
    "}"
   ]
  },
  {
   "cell_type": "code",
   "execution_count": 33,
   "id": "1a4039ca",
   "metadata": {
    "id": "1a4039ca"
   },
   "outputs": [],
   "source": [
    "# Generate the confusion matrix\n",
    "cm = confusion_matrix(y_test, y_pred)"
   ]
  },
  {
   "cell_type": "code",
   "execution_count": 42,
   "id": "393ef20a",
   "metadata": {
    "scrolled": false
   },
   "outputs": [
    {
     "data": {
      "image/png": "[encoded data removed]",
      "text/plain": [
       "<Figure size 800x600 with 2 Axes>"
      ]
     },
     "metadata": {},
     "output_type": "display_data"
    }
   ],
   "source": [
    "# Plot the confusion matrix with label names\n",
    "class_names = [label_mapping[label] for label in np.unique(y)]\n",
    "fig, ax = plt.subplots(figsize=(8, 6))\n",
    "sns.heatmap(cm, annot=True, fmt=\"d\", cmap=\"Blues\", xticklabels=class_names, yticklabels=class_names, ax=ax)\n",
    "ax.set_xlabel('Predicted')\n",
    "ax.set_ylabel('Actual')\n",
    "plt.show()"
   ]
  },
  {
   "cell_type": "code",
   "execution_count": null,
   "id": "78f8e19d",
   "metadata": {},
   "outputs": [],
   "source": [
    "# Save the trained model\n",
    "model.save(\"my_model_10.h5\")"
   ]
  }
 ],
 "metadata": {
  "accelerator": "GPU",
  "colab": {
   "provenance": []
  },
  "kernelspec": {
   "display_name": "Python 3 (ipykernel)",
   "language": "python",
   "name": "python3"
  },
  "language_info": {
   "codemirror_mode": {
    "name": "ipython",
    "version": 3
   },
   "file_extension": ".py",
   "mimetype": "text/x-python",
   "name": "python",
   "nbconvert_exporter": "python",
   "pygments_lexer": "ipython3",
   "version": "3.10.7"
  }
 },
 "nbformat": 4,
 "nbformat_minor": 5
}
