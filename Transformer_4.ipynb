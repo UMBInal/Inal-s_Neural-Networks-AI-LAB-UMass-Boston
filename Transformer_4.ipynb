{
 "cells": [
  {
   "cell_type": "code",
   "execution_count": 1,
   "id": "dd77aa5b",
   "metadata": {
    "id": "dd77aa5b"
   },
   "outputs": [],
   "source": [
    "import numpy as np\n",
    "import pandas as pd\n",
    "import tensorflow as tf\n",
    "from sklearn.model_selection import train_test_split\n",
    "from tensorflow import keras\n",
    "from tensorflow.keras import layers\n",
    "from tensorflow.keras.models import load_model\n",
    "from tensorflow.keras.optimizers import Adam\n",
    "from tensorflow.keras.callbacks import ReduceLROnPlateau, EarlyStopping\n",
    "from sklearn.metrics import confusion_matrix\n",
    "import seaborn as sns\n",
    "import matplotlib.pyplot as plt\n",
    "import time"
   ]
  },
  {
   "cell_type": "code",
   "execution_count": 2,
   "id": "f9d20c5d",
   "metadata": {},
   "outputs": [
    {
     "name": "stdout",
     "output_type": "stream",
     "text": [
      "Num GPUs Available:  1\n"
     ]
    }
   ],
   "source": [
    "print(\"Num GPUs Available: \", len(tf.config.experimental.list_physical_devices('GPU')))"
   ]
  },
  {
   "cell_type": "code",
   "execution_count": 3,
   "id": "f16df2f1",
   "metadata": {
    "id": "f16df2f1"
   },
   "outputs": [],
   "source": [
    "# Function to read the data\n",
    "def read_data(filename):\n",
    "    data = pd.read_csv(filename, header=None)\n",
    "    features = data.iloc[:, :-1].values\n",
    "    labels = data.iloc[:, -1].values - 1  # Shift the class labels to 0-4 for 5 classes\n",
    "    return features, labels\n",
    "\n",
    "# Read the data\n",
    "data_url = \"https://raw.githubusercontent.com/UMBInal/data/main/data1.csv\"\n",
    "x, y = read_data(data_url)"
   ]
  },
  {
   "cell_type": "code",
   "execution_count": 4,
   "id": "3eb86201",
   "metadata": {},
   "outputs": [
    {
     "data": {
      "text/plain": [
       "(36670, 10)"
      ]
     },
     "execution_count": 4,
     "metadata": {},
     "output_type": "execute_result"
    }
   ],
   "source": [
    "x.shape"
   ]
  },
  {
   "cell_type": "code",
   "execution_count": 5,
   "id": "6b640bf8",
   "metadata": {},
   "outputs": [
    {
     "data": {
      "text/plain": [
       "(36670,)"
      ]
     },
     "execution_count": 5,
     "metadata": {},
     "output_type": "execute_result"
    }
   ],
   "source": [
    "y.shape"
   ]
  },
  {
   "cell_type": "code",
   "execution_count": 6,
   "id": "9650592c",
   "metadata": {},
   "outputs": [
    {
     "data": {
      "text/plain": [
       "array([0, 1, 2, 3, 4], dtype=int64)"
      ]
     },
     "execution_count": 6,
     "metadata": {},
     "output_type": "execute_result"
    }
   ],
   "source": [
    "np.unique(y)"
   ]
  },
  {
   "cell_type": "code",
   "execution_count": 7,
   "id": "0edc69b6",
   "metadata": {},
   "outputs": [
    {
     "data": {
      "text/plain": [
       "array([0.01176471, 0.01176471, 0.97647059, 0.        , 0.        ,\n",
       "       0.        , 0.        , 0.        , 0.        , 0.        ])"
      ]
     },
     "execution_count": 7,
     "metadata": {},
     "output_type": "execute_result"
    }
   ],
   "source": [
    "x[0]"
   ]
  },
  {
   "cell_type": "code",
   "execution_count": 8,
   "id": "b4eec323",
   "metadata": {},
   "outputs": [
    {
     "data": {
      "text/plain": [
       "0"
      ]
     },
     "execution_count": 8,
     "metadata": {},
     "output_type": "execute_result"
    }
   ],
   "source": [
    "y[0]"
   ]
  },
  {
   "cell_type": "code",
   "execution_count": 9,
   "id": "9db6440b",
   "metadata": {
    "id": "9db6440b"
   },
   "outputs": [],
   "source": [
    "# Split the data into training, validation, and testing sets\n",
    "x_train, x_test, y_train, y_test = train_test_split(x, y, test_size=0.1, random_state=42)\n",
    "x_train, x_val, y_train, y_val = train_test_split(x_train, y_train, test_size=0.2, random_state=42)"
   ]
  },
  {
   "cell_type": "code",
   "execution_count": 10,
   "id": "0b135163",
   "metadata": {
    "id": "0b135163"
   },
   "outputs": [],
   "source": [
    "# Reshape the data\n",
    "x_train = x_train.reshape((x_train.shape[0], x_train.shape[1], 1))\n",
    "x_val = x_val.reshape((x_val.shape[0], x_val.shape[1], 1))\n",
    "x_test = x_test.reshape((x_test.shape[0], x_test.shape[1], 1))"
   ]
  },
  {
   "cell_type": "code",
   "execution_count": 11,
   "id": "936243fe",
   "metadata": {
    "id": "936243fe"
   },
   "outputs": [],
   "source": [
    "# Determine the input shape and number of classes\n",
    "input_shape = (x_train.shape[1], 1)\n",
    "num_classes = len(np.unique(y))"
   ]
  },
  {
   "cell_type": "code",
   "execution_count": 12,
   "id": "4cb2989e",
   "metadata": {},
   "outputs": [
    {
     "data": {
      "text/plain": [
       "5"
      ]
     },
     "execution_count": 12,
     "metadata": {},
     "output_type": "execute_result"
    }
   ],
   "source": [
    "num_classes"
   ]
  },
  {
   "cell_type": "code",
   "execution_count": 13,
   "id": "26c6890e",
   "metadata": {},
   "outputs": [
    {
     "data": {
      "text/plain": [
       "(10, 1)"
      ]
     },
     "execution_count": 13,
     "metadata": {},
     "output_type": "execute_result"
    }
   ],
   "source": [
    "input_shape"
   ]
  },
  {
   "cell_type": "code",
   "execution_count": 14,
   "id": "859aa647",
   "metadata": {},
   "outputs": [
    {
     "data": {
      "text/plain": [
       "(26402, 10, 1)"
      ]
     },
     "execution_count": 14,
     "metadata": {},
     "output_type": "execute_result"
    }
   ],
   "source": [
    "x_train.shape"
   ]
  },
  {
   "cell_type": "code",
   "execution_count": 15,
   "id": "eab565dd",
   "metadata": {},
   "outputs": [
    {
     "data": {
      "text/plain": [
       "(26402,)"
      ]
     },
     "execution_count": 15,
     "metadata": {},
     "output_type": "execute_result"
    }
   ],
   "source": [
    "y_train.shape"
   ]
  },
  {
   "cell_type": "code",
   "execution_count": 16,
   "id": "ab950213",
   "metadata": {},
   "outputs": [
    {
     "data": {
      "text/plain": [
       "array([[0.03571429],\n",
       "       [0.02142857],\n",
       "       [0.91428571],\n",
       "       [0.        ],\n",
       "       [0.        ],\n",
       "       [0.        ],\n",
       "       [0.        ],\n",
       "       [0.00714286],\n",
       "       [0.00714286],\n",
       "       [0.01428571]])"
      ]
     },
     "execution_count": 16,
     "metadata": {},
     "output_type": "execute_result"
    }
   ],
   "source": [
    "x_train[0]"
   ]
  },
  {
   "cell_type": "code",
   "execution_count": 17,
   "id": "7f11432f",
   "metadata": {},
   "outputs": [
    {
     "data": {
      "text/plain": [
       "0"
      ]
     },
     "execution_count": 17,
     "metadata": {},
     "output_type": "execute_result"
    }
   ],
   "source": [
    "y_train[0]"
   ]
  },
  {
   "cell_type": "code",
   "execution_count": 18,
   "id": "cd51204b",
   "metadata": {
    "id": "cd51204b"
   },
   "outputs": [],
   "source": [
    "# Transformer Encoder function with dropout and L2 regularization\n",
    "def transformer_encoder(inputs, head_size, num_heads, ff_dim, dropout=0.1, l2_reg=0.01):\n",
    "    \n",
    "    x = layers.MultiHeadAttention(key_dim=head_size, num_heads=num_heads, dropout=dropout)(inputs, inputs)\n",
    "    x = layers.Dropout(dropout)(x)\n",
    "    x = layers.LayerNormalization(epsilon=1e-6)(x)\n",
    "    res = x + inputs\n",
    "\n",
    "    # Feed-forward network with dropout and L2 regularization\n",
    "    x = layers.Dense(ff_dim, activation=\"relu\", kernel_regularizer=keras.regularizers.l2(l2_reg))(res)\n",
    "    x = layers.Dropout(dropout)(x)\n",
    "\n",
    "    x = layers.Dense(ff_dim, activation=\"relu\", kernel_regularizer=keras.regularizers.l2(l2_reg))(x)\n",
    "    x = layers.Dropout(dropout)(x)\n",
    "    \n",
    "    x = layers.Dense(ff_dim, activation=\"relu\", kernel_regularizer=keras.regularizers.l2(l2_reg))(x)\n",
    "    x = layers.Dropout(dropout)(x)\n",
    "    \n",
    "    x = layers.Dense(ff_dim, activation=\"relu\", kernel_regularizer=keras.regularizers.l2(l2_reg))(x)\n",
    "    x = layers.Dropout(dropout)(x)\n",
    "    \n",
    "    x = layers.Dense(ff_dim, activation=\"relu\", kernel_regularizer=keras.regularizers.l2(l2_reg))(x)\n",
    "    x = layers.Dropout(dropout)(x)\n",
    "    \n",
    "    x = layers.Dense(ff_dim, activation=\"relu\", kernel_regularizer=keras.regularizers.l2(l2_reg))(x)\n",
    "    x = layers.Dropout(dropout)(x)\n",
    "    \n",
    "    x = layers.Dense(ff_dim, activation=\"relu\", kernel_regularizer=keras.regularizers.l2(l2_reg))(x)\n",
    "    x = layers.Dropout(dropout)(x)\n",
    "    \n",
    "    x = layers.Dense(ff_dim, activation=\"relu\", kernel_regularizer=keras.regularizers.l2(l2_reg))(x)\n",
    "    x = layers.Dropout(dropout)(x)\n",
    "\n",
    "    x = layers.Dense(ff_dim, activation=\"relu\", kernel_regularizer=keras.regularizers.l2(l2_reg))(x)\n",
    "    x = layers.Dropout(dropout)(x)\n",
    "\n",
    "    x = layers.Dense(inputs.shape[-1], activation = 'softmax')(x)\n",
    "    x = layers.LayerNormalization(epsilon=1e-6)(x)\n",
    "\n",
    "    return x + res"
   ]
  },
  {
   "cell_type": "code",
   "execution_count": 19,
   "id": "9df843aa",
   "metadata": {
    "id": "9df843aa"
   },
   "outputs": [],
   "source": [
    "# Transformer Decoder function\n",
    "def transformer_decoder(inputs, enc_outputs, head_size, num_heads, ff_dim, dropout=0.1, l2_reg=0.01):\n",
    "    x = layers.MultiHeadAttention(key_dim=head_size, num_heads=num_heads, dropout=dropout)(inputs, inputs)\n",
    "    x = layers.Dropout(dropout)(x)\n",
    "    x = layers.LayerNormalization(epsilon=1e-6)(x)\n",
    "    res = x + inputs\n",
    "\n",
    "    x = layers.MultiHeadAttention(key_dim=head_size, num_heads=num_heads, dropout=dropout)(res, enc_outputs)\n",
    "    x = layers.Dropout(dropout)(x)\n",
    "    x = layers.LayerNormalization(epsilon=1e-6)(x)\n",
    "    x = x + res\n",
    "\n",
    "    # Feed-forward network\n",
    "    x = layers.Dense(ff_dim, activation=\"relu\", kernel_regularizer=keras.regularizers.l2(l2_reg))(x)\n",
    "    x = layers.Dropout(dropout)(x)\n",
    "    \n",
    "    x = layers.Dense(ff_dim, activation=\"relu\", kernel_regularizer=keras.regularizers.l2(l2_reg))(x)\n",
    "    x = layers.Dropout(dropout)(x)\n",
    "    \n",
    "    x = layers.Dense(ff_dim, activation=\"relu\", kernel_regularizer=keras.regularizers.l2(l2_reg))(x)\n",
    "    x = layers.Dropout(dropout)(x)\n",
    "    \n",
    "    x = layers.Dense(ff_dim, activation=\"relu\", kernel_regularizer=keras.regularizers.l2(l2_reg))(x)\n",
    "    x = layers.Dropout(dropout)(x)\n",
    "    \n",
    "    x = layers.Dense(ff_dim, activation=\"relu\", kernel_regularizer=keras.regularizers.l2(l2_reg))(x)\n",
    "    x = layers.Dropout(dropout)(x)\n",
    "    \n",
    "    x = layers.Dense(ff_dim, activation=\"relu\", kernel_regularizer=keras.regularizers.l2(l2_reg))(x)\n",
    "    x = layers.Dropout(dropout)(x)\n",
    "    \n",
    "    x = layers.Dense(ff_dim, activation=\"relu\", kernel_regularizer=keras.regularizers.l2(l2_reg))(x)\n",
    "    x = layers.Dropout(dropout)(x)\n",
    "    \n",
    "    x = layers.Dense(ff_dim, activation=\"relu\", kernel_regularizer=keras.regularizers.l2(l2_reg))(x)\n",
    "    x = layers.Dropout(dropout)(x)\n",
    "    \n",
    "    x = layers.Dense(ff_dim, activation=\"relu\", kernel_regularizer=keras.regularizers.l2(l2_reg))(x)\n",
    "    x = layers.Dropout(dropout)(x)\n",
    "\n",
    "    x = layers.Dense(inputs.shape[-1], activation = 'softmax')(x)\n",
    "    x = layers.LayerNormalization(epsilon=1e-6)(x)\n",
    "\n",
    "    return x + res\n"
   ]
  },
  {
   "cell_type": "code",
   "execution_count": 20,
   "id": "d9851305",
   "metadata": {
    "id": "d9851305"
   },
   "outputs": [],
   "source": [
    "# Build the model\n",
    "def build_model(input_shape, head_size, num_heads, ff_dim, num_transformer_blocks, mlp_units, dropout=0, mlp_dropout=0, l2_reg=0):\n",
    "    inputs = keras.Input(shape=input_shape)\n",
    "    x = inputs\n",
    "\n",
    "    # Encoder\n",
    "    for _ in range(num_transformer_blocks):\n",
    "        x = transformer_encoder(x, head_size, num_heads, ff_dim, dropout, l2_reg)\n",
    "\n",
    "        \n",
    "    # Decoder\n",
    "    decoder_input = keras.Input(shape=input_shape)\n",
    "    dec = decoder_input\n",
    "    for _ in range(num_transformer_blocks):\n",
    "        dec = transformer_decoder(dec, x, head_size, num_heads, ff_dim, dropout, l2_reg)\n",
    "\n",
    "    x = layers.Flatten()(x)\n",
    "    dec = layers.Flatten()(dec)\n",
    "    x = layers.Concatenate()([x, dec])\n",
    "\n",
    "    for dim in mlp_units:\n",
    "        x = layers.Dense(dim, activation=\"relu\")(x)\n",
    "        x = layers.Dropout(mlp_dropout)(x)\n",
    "\n",
    "    outputs = layers.Dense(num_classes, activation=\"softmax\")(x)\n",
    "\n",
    "    model = keras.Model([inputs, decoder_input], outputs)\n",
    "    return model"
   ]
  },
  {
   "cell_type": "code",
   "execution_count": 21,
   "id": "1d648db6",
   "metadata": {
    "id": "1d648db6"
   },
   "outputs": [],
   "source": [
    "# Define the hyperparameters\n",
    "\n",
    "head_size = 2\n",
    "num_heads = 16\n",
    "ff_dim = 512\n",
    "num_transformer_blocks = 6\n",
    "mlp_units = [512]\n",
    "dropout = 0.1\n",
    "mlp_dropout = 0.1\n",
    "initial_lr = 0.001\n",
    "l2_reg=0.01"
   ]
  },
  {
   "cell_type": "code",
   "execution_count": 22,
   "id": "6c794103",
   "metadata": {
    "id": "6c794103"
   },
   "outputs": [],
   "source": [
    "# Build the model\n",
    "model = build_model(input_shape, head_size, num_heads, ff_dim, num_transformer_blocks, mlp_units, dropout, mlp_dropout)"
   ]
  },
  {
   "cell_type": "code",
   "execution_count": 23,
   "id": "64e4c3ef",
   "metadata": {
    "id": "64e4c3ef"
   },
   "outputs": [],
   "source": [
    "# Create the optimizer with the initial learning rate\n",
    "optimizer = Adam(learning_rate=initial_lr)"
   ]
  },
  {
   "cell_type": "code",
   "execution_count": 24,
   "id": "0e19e795",
   "metadata": {
    "id": "0e19e795"
   },
   "outputs": [],
   "source": [
    "# Compile the model\n",
    "model.compile(optimizer=optimizer, loss=\"sparse_categorical_crossentropy\", metrics=[\"accuracy\"])"
   ]
  },
  {
   "cell_type": "code",
   "execution_count": 25,
   "id": "02a51f0f",
   "metadata": {
    "id": "02a51f0f"
   },
   "outputs": [],
   "source": [
    "# Create the ReduceLROnPlateau callback\n",
    "lr_callback = ReduceLROnPlateau(factor=0.1, patience=50)"
   ]
  },
  {
   "cell_type": "code",
   "execution_count": 26,
   "id": "511f6219",
   "metadata": {},
   "outputs": [],
   "source": [
    "# Record the start time\n",
    "start_time = time.time()"
   ]
  },
  {
   "cell_type": "code",
   "execution_count": 27,
   "id": "19d80153",
   "metadata": {},
   "outputs": [
    {
     "name": "stdout",
     "output_type": "stream",
     "text": [
      "Epoch 1/100\n",
      "413/413 [==============================] - 100s 192ms/step - loss: 0.4043 - accuracy: 0.8433 - val_loss: 0.3051 - val_accuracy: 0.8568 - lr: 0.0010\n",
      "Epoch 2/100\n",
      "413/413 [==============================] - 66s 160ms/step - loss: 0.2920 - accuracy: 0.8737 - val_loss: 0.2760 - val_accuracy: 0.8826 - lr: 0.0010\n",
      "Epoch 3/100\n",
      "413/413 [==============================] - 68s 164ms/step - loss: 0.2737 - accuracy: 0.8836 - val_loss: 0.2659 - val_accuracy: 0.8862 - lr: 0.0010\n",
      "Epoch 4/100\n",
      "413/413 [==============================] - 70s 169ms/step - loss: 0.2643 - accuracy: 0.8881 - val_loss: 0.2539 - val_accuracy: 0.8971 - lr: 0.0010\n",
      "Epoch 5/100\n",
      "413/413 [==============================] - 67s 163ms/step - loss: 0.2563 - accuracy: 0.8918 - val_loss: 0.2484 - val_accuracy: 0.8946 - lr: 0.0010\n",
      "Epoch 6/100\n",
      "413/413 [==============================] - 68s 163ms/step - loss: 0.2485 - accuracy: 0.8957 - val_loss: 0.2430 - val_accuracy: 0.8958 - lr: 0.0010\n",
      "Epoch 7/100\n",
      "413/413 [==============================] - 67s 163ms/step - loss: 0.2408 - accuracy: 0.8975 - val_loss: 0.2432 - val_accuracy: 0.8920 - lr: 0.0010\n",
      "Epoch 8/100\n",
      "413/413 [==============================] - 66s 160ms/step - loss: 0.2355 - accuracy: 0.8995 - val_loss: 0.2312 - val_accuracy: 0.9027 - lr: 0.0010\n",
      "Epoch 9/100\n",
      "413/413 [==============================] - 66s 159ms/step - loss: 0.2279 - accuracy: 0.9028 - val_loss: 0.2235 - val_accuracy: 0.9068 - lr: 0.0010\n",
      "Epoch 10/100\n",
      "413/413 [==============================] - 69s 167ms/step - loss: 0.2213 - accuracy: 0.9037 - val_loss: 0.2239 - val_accuracy: 0.9112 - lr: 0.0010\n",
      "Epoch 11/100\n",
      "413/413 [==============================] - 69s 167ms/step - loss: 0.2173 - accuracy: 0.9063 - val_loss: 0.2130 - val_accuracy: 0.9115 - lr: 0.0010\n",
      "Epoch 12/100\n",
      "413/413 [==============================] - 68s 164ms/step - loss: 0.2119 - accuracy: 0.9082 - val_loss: 0.2129 - val_accuracy: 0.9082 - lr: 0.0010\n",
      "Epoch 13/100\n",
      "413/413 [==============================] - 67s 162ms/step - loss: 0.2071 - accuracy: 0.9105 - val_loss: 0.2035 - val_accuracy: 0.9165 - lr: 0.0010\n",
      "Epoch 14/100\n",
      "413/413 [==============================] - 65s 157ms/step - loss: 0.2028 - accuracy: 0.9123 - val_loss: 0.1978 - val_accuracy: 0.9168 - lr: 0.0010\n",
      "Epoch 15/100\n",
      "413/413 [==============================] - 67s 163ms/step - loss: 0.1989 - accuracy: 0.9127 - val_loss: 0.1947 - val_accuracy: 0.9203 - lr: 0.0010\n",
      "Epoch 16/100\n",
      "413/413 [==============================] - 66s 160ms/step - loss: 0.1947 - accuracy: 0.9169 - val_loss: 0.2051 - val_accuracy: 0.9120 - lr: 0.0010\n",
      "Epoch 17/100\n",
      "413/413 [==============================] - 68s 164ms/step - loss: 0.1925 - accuracy: 0.9184 - val_loss: 0.1869 - val_accuracy: 0.9177 - lr: 0.0010\n",
      "Epoch 18/100\n",
      "413/413 [==============================] - 67s 162ms/step - loss: 0.1877 - accuracy: 0.9186 - val_loss: 0.1876 - val_accuracy: 0.9236 - lr: 0.0010\n",
      "Epoch 19/100\n",
      "413/413 [==============================] - 66s 159ms/step - loss: 0.1831 - accuracy: 0.9214 - val_loss: 0.1838 - val_accuracy: 0.9177 - lr: 0.0010\n",
      "Epoch 20/100\n",
      "413/413 [==============================] - 68s 164ms/step - loss: 0.1798 - accuracy: 0.9245 - val_loss: 0.1775 - val_accuracy: 0.9230 - lr: 0.0010\n",
      "Epoch 21/100\n",
      "413/413 [==============================] - 65s 157ms/step - loss: 0.1779 - accuracy: 0.9234 - val_loss: 0.1764 - val_accuracy: 0.9306 - lr: 0.0010\n",
      "Epoch 22/100\n",
      "413/413 [==============================] - 67s 162ms/step - loss: 0.1744 - accuracy: 0.9242 - val_loss: 0.1730 - val_accuracy: 0.9270 - lr: 0.0010\n",
      "Epoch 23/100\n",
      "413/413 [==============================] - 67s 163ms/step - loss: 0.1716 - accuracy: 0.9281 - val_loss: 0.1743 - val_accuracy: 0.9274 - lr: 0.0010\n",
      "Epoch 24/100\n",
      "413/413 [==============================] - 66s 161ms/step - loss: 0.1702 - accuracy: 0.9285 - val_loss: 0.1651 - val_accuracy: 0.9341 - lr: 0.0010\n",
      "Epoch 25/100\n",
      "413/413 [==============================] - 65s 157ms/step - loss: 0.1674 - accuracy: 0.9293 - val_loss: 0.1637 - val_accuracy: 0.9329 - lr: 0.0010\n",
      "Epoch 26/100\n",
      "413/413 [==============================] - 66s 160ms/step - loss: 0.1625 - accuracy: 0.9319 - val_loss: 0.1649 - val_accuracy: 0.9317 - lr: 0.0010\n",
      "Epoch 27/100\n",
      "413/413 [==============================] - 64s 156ms/step - loss: 0.1618 - accuracy: 0.9327 - val_loss: 0.1631 - val_accuracy: 0.9299 - lr: 0.0010\n",
      "Epoch 28/100\n",
      "413/413 [==============================] - 65s 158ms/step - loss: 0.1602 - accuracy: 0.9333 - val_loss: 0.1556 - val_accuracy: 0.9367 - lr: 0.0010\n",
      "Epoch 29/100\n",
      "413/413 [==============================] - 64s 155ms/step - loss: 0.1582 - accuracy: 0.9330 - val_loss: 0.1500 - val_accuracy: 0.9409 - lr: 0.0010\n",
      "Epoch 30/100\n",
      "413/413 [==============================] - 67s 161ms/step - loss: 0.1550 - accuracy: 0.9339 - val_loss: 0.1491 - val_accuracy: 0.9406 - lr: 0.0010\n",
      "Epoch 31/100\n",
      "413/413 [==============================] - 66s 160ms/step - loss: 0.1544 - accuracy: 0.9364 - val_loss: 0.1579 - val_accuracy: 0.9338 - lr: 0.0010\n",
      "Epoch 32/100\n",
      "413/413 [==============================] - 66s 159ms/step - loss: 0.1528 - accuracy: 0.9351 - val_loss: 0.1490 - val_accuracy: 0.9391 - lr: 0.0010\n",
      "Epoch 33/100\n",
      "413/413 [==============================] - 66s 160ms/step - loss: 0.1494 - accuracy: 0.9378 - val_loss: 0.1449 - val_accuracy: 0.9411 - lr: 0.0010\n",
      "Epoch 34/100\n",
      "413/413 [==============================] - 65s 158ms/step - loss: 0.1485 - accuracy: 0.9378 - val_loss: 0.1498 - val_accuracy: 0.9364 - lr: 0.0010\n",
      "Epoch 35/100\n",
      "413/413 [==============================] - 67s 163ms/step - loss: 0.1442 - accuracy: 0.9394 - val_loss: 0.1407 - val_accuracy: 0.9432 - lr: 0.0010\n",
      "Epoch 36/100\n",
      "413/413 [==============================] - 67s 162ms/step - loss: 0.1460 - accuracy: 0.9390 - val_loss: 0.1412 - val_accuracy: 0.9408 - lr: 0.0010\n",
      "Epoch 37/100\n",
      "413/413 [==============================] - 64s 155ms/step - loss: 0.1455 - accuracy: 0.9389 - val_loss: 0.1362 - val_accuracy: 0.9461 - lr: 0.0010\n",
      "Epoch 38/100\n",
      "413/413 [==============================] - 65s 157ms/step - loss: 0.1411 - accuracy: 0.9408 - val_loss: 0.1335 - val_accuracy: 0.9436 - lr: 0.0010\n",
      "Epoch 39/100\n",
      "413/413 [==============================] - 67s 161ms/step - loss: 0.1402 - accuracy: 0.9427 - val_loss: 0.1378 - val_accuracy: 0.9424 - lr: 0.0010\n",
      "Epoch 40/100\n",
      "413/413 [==============================] - 66s 159ms/step - loss: 0.1396 - accuracy: 0.9425 - val_loss: 0.1314 - val_accuracy: 0.9493 - lr: 0.0010\n",
      "Epoch 41/100\n",
      "413/413 [==============================] - 67s 163ms/step - loss: 0.1365 - accuracy: 0.9443 - val_loss: 0.1298 - val_accuracy: 0.9489 - lr: 0.0010\n",
      "Epoch 42/100\n",
      "413/413 [==============================] - 67s 163ms/step - loss: 0.1371 - accuracy: 0.9436 - val_loss: 0.1270 - val_accuracy: 0.9489 - lr: 0.0010\n",
      "Epoch 43/100\n",
      "413/413 [==============================] - 70s 169ms/step - loss: 0.1345 - accuracy: 0.9436 - val_loss: 0.1305 - val_accuracy: 0.9450 - lr: 0.0010\n",
      "Epoch 44/100\n",
      "413/413 [==============================] - 69s 167ms/step - loss: 0.1340 - accuracy: 0.9440 - val_loss: 0.1260 - val_accuracy: 0.9480 - lr: 0.0010\n",
      "Epoch 45/100\n",
      "413/413 [==============================] - 67s 162ms/step - loss: 0.1311 - accuracy: 0.9452 - val_loss: 0.1261 - val_accuracy: 0.9535 - lr: 0.0010\n",
      "Epoch 46/100\n",
      "413/413 [==============================] - 67s 161ms/step - loss: 0.1297 - accuracy: 0.9461 - val_loss: 0.1273 - val_accuracy: 0.9499 - lr: 0.0010\n",
      "Epoch 47/100\n",
      "413/413 [==============================] - 67s 162ms/step - loss: 0.1306 - accuracy: 0.9469 - val_loss: 0.1220 - val_accuracy: 0.9476 - lr: 0.0010\n",
      "Epoch 48/100\n",
      "413/413 [==============================] - 67s 162ms/step - loss: 0.1270 - accuracy: 0.9478 - val_loss: 0.1216 - val_accuracy: 0.9473 - lr: 0.0010\n",
      "Epoch 49/100\n",
      "413/413 [==============================] - 66s 161ms/step - loss: 0.1257 - accuracy: 0.9473 - val_loss: 0.1204 - val_accuracy: 0.9518 - lr: 0.0010\n",
      "Epoch 50/100\n",
      "413/413 [==============================] - 67s 163ms/step - loss: 0.1247 - accuracy: 0.9482 - val_loss: 0.1225 - val_accuracy: 0.9541 - lr: 0.0010\n",
      "Epoch 51/100\n",
      "413/413 [==============================] - 67s 161ms/step - loss: 0.1254 - accuracy: 0.9494 - val_loss: 0.1140 - val_accuracy: 0.9546 - lr: 0.0010\n",
      "Epoch 52/100\n"
     ]
    },
    {
     "name": "stdout",
     "output_type": "stream",
     "text": [
      "413/413 [==============================] - 65s 158ms/step - loss: 0.1248 - accuracy: 0.9481 - val_loss: 0.1162 - val_accuracy: 0.9559 - lr: 0.0010\n",
      "Epoch 53/100\n",
      "413/413 [==============================] - 67s 161ms/step - loss: 0.1211 - accuracy: 0.9502 - val_loss: 0.1149 - val_accuracy: 0.9536 - lr: 0.0010\n",
      "Epoch 54/100\n",
      "413/413 [==============================] - 64s 156ms/step - loss: 0.1213 - accuracy: 0.9506 - val_loss: 0.1113 - val_accuracy: 0.9549 - lr: 0.0010\n",
      "Epoch 55/100\n",
      "413/413 [==============================] - 65s 158ms/step - loss: 0.1202 - accuracy: 0.9516 - val_loss: 0.1147 - val_accuracy: 0.9568 - lr: 0.0010\n",
      "Epoch 56/100\n",
      "413/413 [==============================] - 66s 161ms/step - loss: 0.1193 - accuracy: 0.9512 - val_loss: 0.1092 - val_accuracy: 0.9541 - lr: 0.0010\n",
      "Epoch 57/100\n",
      "413/413 [==============================] - 67s 163ms/step - loss: 0.1173 - accuracy: 0.9521 - val_loss: 0.1121 - val_accuracy: 0.9550 - lr: 0.0010\n",
      "Epoch 58/100\n",
      "413/413 [==============================] - 67s 163ms/step - loss: 0.1170 - accuracy: 0.9519 - val_loss: 0.1076 - val_accuracy: 0.9580 - lr: 0.0010\n",
      "Epoch 59/100\n",
      "413/413 [==============================] - 69s 166ms/step - loss: 0.1153 - accuracy: 0.9525 - val_loss: 0.1073 - val_accuracy: 0.9559 - lr: 0.0010\n",
      "Epoch 60/100\n",
      "413/413 [==============================] - 67s 163ms/step - loss: 0.1129 - accuracy: 0.9539 - val_loss: 0.1052 - val_accuracy: 0.9626 - lr: 0.0010\n",
      "Epoch 61/100\n",
      "413/413 [==============================] - 67s 162ms/step - loss: 0.1146 - accuracy: 0.9545 - val_loss: 0.1047 - val_accuracy: 0.9555 - lr: 0.0010\n",
      "Epoch 62/100\n",
      "413/413 [==============================] - 67s 162ms/step - loss: 0.1129 - accuracy: 0.9533 - val_loss: 0.1084 - val_accuracy: 0.9567 - lr: 0.0010\n",
      "Epoch 63/100\n",
      "413/413 [==============================] - 67s 163ms/step - loss: 0.1135 - accuracy: 0.9547 - val_loss: 0.1004 - val_accuracy: 0.9623 - lr: 0.0010\n",
      "Epoch 64/100\n",
      "413/413 [==============================] - 68s 166ms/step - loss: 0.1101 - accuracy: 0.9558 - val_loss: 0.0996 - val_accuracy: 0.9580 - lr: 0.0010\n",
      "Epoch 65/100\n",
      "413/413 [==============================] - 66s 160ms/step - loss: 0.1112 - accuracy: 0.9558 - val_loss: 0.0998 - val_accuracy: 0.9627 - lr: 0.0010\n",
      "Epoch 66/100\n",
      "413/413 [==============================] - 65s 158ms/step - loss: 0.1076 - accuracy: 0.9569 - val_loss: 0.1021 - val_accuracy: 0.9621 - lr: 0.0010\n",
      "Epoch 67/100\n",
      "413/413 [==============================] - 66s 160ms/step - loss: 0.1078 - accuracy: 0.9569 - val_loss: 0.1015 - val_accuracy: 0.9642 - lr: 0.0010\n",
      "Epoch 68/100\n",
      "413/413 [==============================] - 65s 158ms/step - loss: 0.1072 - accuracy: 0.9578 - val_loss: 0.0982 - val_accuracy: 0.9646 - lr: 0.0010\n",
      "Epoch 69/100\n",
      "413/413 [==============================] - 67s 163ms/step - loss: 0.1082 - accuracy: 0.9559 - val_loss: 0.0975 - val_accuracy: 0.9646 - lr: 0.0010\n",
      "Epoch 70/100\n",
      "413/413 [==============================] - 67s 163ms/step - loss: 0.1032 - accuracy: 0.9588 - val_loss: 0.0948 - val_accuracy: 0.9676 - lr: 0.0010\n",
      "Epoch 71/100\n",
      "413/413 [==============================] - 64s 155ms/step - loss: 0.1028 - accuracy: 0.9598 - val_loss: 0.1005 - val_accuracy: 0.9609 - lr: 0.0010\n",
      "Epoch 72/100\n",
      "413/413 [==============================] - 65s 157ms/step - loss: 0.1028 - accuracy: 0.9591 - val_loss: 0.0941 - val_accuracy: 0.9691 - lr: 0.0010\n",
      "Epoch 73/100\n",
      "413/413 [==============================] - 65s 156ms/step - loss: 0.1042 - accuracy: 0.9577 - val_loss: 0.0884 - val_accuracy: 0.9658 - lr: 0.0010\n",
      "Epoch 74/100\n",
      "413/413 [==============================] - 65s 157ms/step - loss: 0.1035 - accuracy: 0.9598 - val_loss: 0.0909 - val_accuracy: 0.9658 - lr: 0.0010\n",
      "Epoch 75/100\n",
      "413/413 [==============================] - 65s 156ms/step - loss: 0.1012 - accuracy: 0.9590 - val_loss: 0.0967 - val_accuracy: 0.9647 - lr: 0.0010\n",
      "Epoch 76/100\n",
      "413/413 [==============================] - 66s 159ms/step - loss: 0.1013 - accuracy: 0.9593 - val_loss: 0.0911 - val_accuracy: 0.9677 - lr: 0.0010\n",
      "Epoch 77/100\n",
      "413/413 [==============================] - 66s 161ms/step - loss: 0.1012 - accuracy: 0.9594 - val_loss: 0.0885 - val_accuracy: 0.9653 - lr: 0.0010\n",
      "Epoch 78/100\n",
      "413/413 [==============================] - 65s 157ms/step - loss: 0.0973 - accuracy: 0.9610 - val_loss: 0.0898 - val_accuracy: 0.9658 - lr: 0.0010\n",
      "Epoch 79/100\n",
      "413/413 [==============================] - 65s 158ms/step - loss: 0.0987 - accuracy: 0.9604 - val_loss: 0.0874 - val_accuracy: 0.9642 - lr: 0.0010\n",
      "Epoch 80/100\n",
      "413/413 [==============================] - 64s 156ms/step - loss: 0.0965 - accuracy: 0.9622 - val_loss: 0.0831 - val_accuracy: 0.9708 - lr: 0.0010\n",
      "Epoch 81/100\n",
      "413/413 [==============================] - 66s 159ms/step - loss: 0.0971 - accuracy: 0.9628 - val_loss: 0.0906 - val_accuracy: 0.9670 - lr: 0.0010\n",
      "Epoch 82/100\n",
      "413/413 [==============================] - 67s 162ms/step - loss: 0.0950 - accuracy: 0.9616 - val_loss: 0.0821 - val_accuracy: 0.9724 - lr: 0.0010\n",
      "Epoch 83/100\n",
      "413/413 [==============================] - 67s 162ms/step - loss: 0.0947 - accuracy: 0.9613 - val_loss: 0.0842 - val_accuracy: 0.9721 - lr: 0.0010\n",
      "Epoch 84/100\n",
      "413/413 [==============================] - 67s 162ms/step - loss: 0.0953 - accuracy: 0.9630 - val_loss: 0.0874 - val_accuracy: 0.9696 - lr: 0.0010\n",
      "Epoch 85/100\n",
      "413/413 [==============================] - 66s 159ms/step - loss: 0.0956 - accuracy: 0.9630 - val_loss: 0.0811 - val_accuracy: 0.9727 - lr: 0.0010\n",
      "Epoch 86/100\n",
      "413/413 [==============================] - 67s 162ms/step - loss: 0.0931 - accuracy: 0.9641 - val_loss: 0.0810 - val_accuracy: 0.9717 - lr: 0.0010\n",
      "Epoch 87/100\n",
      "413/413 [==============================] - 67s 162ms/step - loss: 0.0911 - accuracy: 0.9653 - val_loss: 0.0804 - val_accuracy: 0.9694 - lr: 0.0010\n",
      "Epoch 88/100\n",
      "413/413 [==============================] - 67s 163ms/step - loss: 0.0929 - accuracy: 0.9645 - val_loss: 0.0817 - val_accuracy: 0.9692 - lr: 0.0010\n",
      "Epoch 89/100\n",
      "413/413 [==============================] - 67s 162ms/step - loss: 0.0911 - accuracy: 0.9647 - val_loss: 0.0887 - val_accuracy: 0.9705 - lr: 0.0010\n",
      "Epoch 90/100\n",
      "413/413 [==============================] - 66s 160ms/step - loss: 0.0911 - accuracy: 0.9641 - val_loss: 0.0771 - val_accuracy: 0.9692 - lr: 0.0010\n",
      "Epoch 91/100\n",
      "413/413 [==============================] - 67s 162ms/step - loss: 0.0896 - accuracy: 0.9649 - val_loss: 0.0857 - val_accuracy: 0.9662 - lr: 0.0010\n",
      "Epoch 92/100\n",
      "413/413 [==============================] - 68s 164ms/step - loss: 0.0898 - accuracy: 0.9649 - val_loss: 0.0795 - val_accuracy: 0.9733 - lr: 0.0010\n",
      "Epoch 93/100\n",
      "413/413 [==============================] - 69s 166ms/step - loss: 0.0896 - accuracy: 0.9661 - val_loss: 0.0731 - val_accuracy: 0.9753 - lr: 0.0010\n",
      "Epoch 94/100\n",
      "413/413 [==============================] - 66s 161ms/step - loss: 0.0901 - accuracy: 0.9650 - val_loss: 0.0792 - val_accuracy: 0.9688 - lr: 0.0010\n",
      "Epoch 95/100\n",
      "413/413 [==============================] - 66s 159ms/step - loss: 0.0879 - accuracy: 0.9656 - val_loss: 0.0790 - val_accuracy: 0.9768 - lr: 0.0010\n",
      "Epoch 96/100\n",
      "413/413 [==============================] - 65s 157ms/step - loss: 0.0879 - accuracy: 0.9661 - val_loss: 0.0782 - val_accuracy: 0.9720 - lr: 0.0010\n",
      "Epoch 97/100\n",
      "413/413 [==============================] - 67s 162ms/step - loss: 0.0866 - accuracy: 0.9681 - val_loss: 0.0715 - val_accuracy: 0.9768 - lr: 0.0010\n",
      "Epoch 98/100\n",
      "413/413 [==============================] - 67s 163ms/step - loss: 0.0839 - accuracy: 0.9688 - val_loss: 0.0744 - val_accuracy: 0.9773 - lr: 0.0010\n",
      "Epoch 99/100\n",
      "413/413 [==============================] - 66s 161ms/step - loss: 0.0870 - accuracy: 0.9664 - val_loss: 0.0753 - val_accuracy: 0.9730 - lr: 0.0010\n",
      "Epoch 100/100\n",
      "413/413 [==============================] - 67s 163ms/step - loss: 0.0855 - accuracy: 0.9682 - val_loss: 0.0712 - val_accuracy: 0.9758 - lr: 0.0010\n"
     ]
    },
    {
     "data": {
      "text/plain": [
       "<keras.callbacks.History at 0x16184340d30>"
      ]
     },
     "execution_count": 27,
     "metadata": {},
     "output_type": "execute_result"
    }
   ],
   "source": [
    "model.fit([x_train, x_train], y_train,\n",
    "          batch_size=64,\n",
    "          epochs=100,\n",
    "          validation_data=([x_val, x_val], y_val),\n",
    "          callbacks=[lr_callback])"
   ]
  },
  {
   "cell_type": "code",
   "execution_count": 28,
   "id": "3ffe7d0c",
   "metadata": {},
   "outputs": [],
   "source": [
    "# Record the end time\n",
    "end_time = time.time()"
   ]
  },
  {
   "cell_type": "code",
   "execution_count": 29,
   "id": "e8dd9c65",
   "metadata": {},
   "outputs": [
    {
     "name": "stdout",
     "output_type": "stream",
     "text": [
      "Total Running Time: 6680.87 seconds\n"
     ]
    }
   ],
   "source": [
    "# Calculate the total running time\n",
    "running_time = end_time - start_time\n",
    "print(\"Total Running Time: {:.2f} seconds\".format(running_time))"
   ]
  },
  {
   "cell_type": "code",
   "execution_count": 30,
   "id": "23ebca14",
   "metadata": {
    "id": "23ebca14"
   },
   "outputs": [
    {
     "name": "stdout",
     "output_type": "stream",
     "text": [
      "115/115 [==============================] - 8s 67ms/step - loss: 0.0720 - accuracy: 0.9738\n",
      "Test loss: 0.07201243937015533, Test accuracy: 0.9738205671310425\n"
     ]
    }
   ],
   "source": [
    "# Evaluate the model\n",
    "loss, accuracy = model.evaluate([x_test, x_test], y_test)\n",
    "print(f\"Test loss: {loss}, Test accuracy: {accuracy}\")"
   ]
  },
  {
   "cell_type": "code",
   "execution_count": 31,
   "id": "5c19fb4c",
   "metadata": {
    "id": "5c19fb4c"
   },
   "outputs": [
    {
     "name": "stdout",
     "output_type": "stream",
     "text": [
      "115/115 [==============================] - 11s 66ms/step\n"
     ]
    }
   ],
   "source": [
    "# Evaluate the model\n",
    "y_pred = model.predict([x_test, x_test])\n",
    "y_pred = np.argmax(y_pred, axis=1)  # Convert probabilities to class labels"
   ]
  },
  {
   "cell_type": "code",
   "execution_count": 32,
   "id": "1a4039ca",
   "metadata": {
    "id": "1a4039ca"
   },
   "outputs": [],
   "source": [
    "# Generate the confusion matrix\n",
    "cm = confusion_matrix(y_test, y_pred)"
   ]
  },
  {
   "cell_type": "code",
   "execution_count": 33,
   "id": "91130bd1",
   "metadata": {
    "id": "91130bd1"
   },
   "outputs": [
    {
     "data": {
      "image/png": "[encoded data removed]",
      "text/plain": [
       "<Figure size 800x600 with 2 Axes>"
      ]
     },
     "metadata": {},
     "output_type": "display_data"
    }
   ],
   "source": [
    "# Plot the confusion matrix\n",
    "class_names = np.unique(y)\n",
    "fig, ax = plt.subplots(figsize=(8, 6))\n",
    "sns.heatmap(cm, annot=True, fmt=\"d\", cmap=\"Blues\", xticklabels=class_names, yticklabels=class_names, ax=ax)\n",
    "ax.set_xlabel('Predicted')\n",
    "ax.set_ylabel('Actual')\n",
    "plt.show()"
   ]
  },
  {
   "cell_type": "code",
   "execution_count": 34,
   "id": "dc8695f9",
   "metadata": {},
   "outputs": [],
   "source": [
    "# Save the trained model\n",
    "model.save(\"my_model_4.h5\")"
   ]
  }
 ],
 "metadata": {
  "accelerator": "GPU",
  "colab": {
   "provenance": []
  },
  "kernelspec": {
   "display_name": "Python 3 (ipykernel)",
   "language": "python",
   "name": "python3"
  },
  "language_info": {
   "codemirror_mode": {
    "name": "ipython",
    "version": 3
   },
   "file_extension": ".py",
   "mimetype": "text/x-python",
   "name": "python",
   "nbconvert_exporter": "python",
   "pygments_lexer": "ipython3",
   "version": "3.10.7"
  }
 },
 "nbformat": 4,
 "nbformat_minor": 5
}
