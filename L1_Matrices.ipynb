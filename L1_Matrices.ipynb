{
 "cells": [
  {
   "cell_type": "markdown",
   "id": "36ebdfe9",
   "metadata": {},
   "source": [
    "# Linear Algebra"
   ]
  },
  {
   "cell_type": "markdown",
   "id": "662c822d",
   "metadata": {},
   "source": [
    "## Introduction\n",
    "\n",
    "This is a series of lectures by Inal Mashukov of University of Massachusetts in Boston."
   ]
  },
  {
   "cell_type": "markdown",
   "id": "ec76502a",
   "metadata": {},
   "source": [
    "## Matrices\n",
    "\n",
    "A matrix in the context of our discourse is a system of linear equations.\n",
    "\n",
    "The **dimensions** of a matrix are specified by $m \\times n$, where $m$ is the number of rows and $n$ is the number of columns. \n",
    "\n",
    "Consider the $2 \\times 2$ matrix M:\n",
    "\n",
    "$ M = \\begin{bmatrix}\n",
    "      1 & 2 \\\\ \n",
    "      3 & 4\n",
    "    \\end{bmatrix}\n",
    "$"
   ]
  },
  {
   "cell_type": "code",
   "execution_count": 1,
   "id": "be07d54c",
   "metadata": {},
   "outputs": [],
   "source": [
    "# the following code creates a matrix object:\n",
    "\n",
    "class Matrix:\n",
    "        \n",
    "# initializing the matrix object: \n",
    "\n",
    "    def __init__(self, m,n, zeros = False, showmat = False):\n",
    "        if m <= 0 or n <= 0:\n",
    "            m = int(input('Enter the number of rows:\\n '))\n",
    "            n = int(input('Enter the number of columns: \\n'))\n",
    "        else:\n",
    "            pass \n",
    "        \n",
    "        self.nrow = m \n",
    "        self.ncol = n\n",
    "        self.zeros = zeros\n",
    "        matrice = []\n",
    "        \n",
    "        if zeros == False:\n",
    "            pass\n",
    "        elif zeros == True:\n",
    "            zeros = True\n",
    "        \n",
    "        def matrix(zeros, showmat):\n",
    "            if zeros == False:\n",
    "                for i in range(0,self.nrow):\n",
    "                    y = []\n",
    "                    for j in range(0,self.ncol):\n",
    "                        k = float(input('Enter the ' + str(i+1) + ',' + str(j+1) + '-th entry :\\n '))\n",
    "                        y.append(k)\n",
    "                    matrice.append(y)\n",
    "            else:\n",
    "                for i in range(0,self.nrow):\n",
    "                    y = []\n",
    "                    for j in range(0,self.ncol):\n",
    "                        k = float(0)\n",
    "                        y.append(k)\n",
    "                    matrice.append(y)\n",
    "            if showmat == True:\n",
    "                for i in matrice:\n",
    "                    print(f'{i} \\n')\n",
    "            return matrice\n",
    "        \n",
    "        self.matrixc = matrix(zeros, showmat)\n",
    "         \n",
    "        matrixc = self.matrixc\n",
    "                    \n",
    "            \n",
    "    def add(x,y, showmat = True):\n",
    "        C = Matrix(x.nrow, x.ncol, zeros = True)\n",
    "        c = C.matrixc\n",
    "        for i in range(0,x.nrow):\n",
    "            for j in range(0,x.ncol):\n",
    "                c[i][j] += x.matrixc[i][j] + y.matrixc[i][j]\n",
    "        a = c\n",
    "        if showmat == True:\n",
    "            for i in a:\n",
    "                print(f'{i} \\n')\n",
    "        else:\n",
    "            pass\n",
    "        return a\n",
    "\n",
    "    def subtract(x,y, showmat = True):\n",
    "        C = Matrix(x.nrow, x.ncol, zeros = True)\n",
    "        c = C.matrixc\n",
    "        for i in range(0,x.nrow):\n",
    "            for j in range(0,x.ncol):\n",
    "                c[i][j] += x.matrixc[i][j] - y.matrixc[i][j]\n",
    "        a = c\n",
    "        if showmat == True:\n",
    "            for i in a:\n",
    "                print(f'{i} \\n')\n",
    "        else:\n",
    "            pass\n",
    "        return a\n",
    "    \n",
    "    def multiply(x,y,showmat = True):\n",
    "        if x.ncol != y.nrow :\n",
    "            print('Inappropriate dimensions, multiplication not defined. \\n')\n",
    "        else:\n",
    "            C = Matrix(x.nrow, x.ncol, zeros = True)\n",
    "            c = C.matrixc\n",
    "            for i in range(0,x.nrow):\n",
    "                for j in range(0, x.ncol):\n",
    "                    c[i][j] += x.matrixc[i][j] * y.matrixc[j][i]\n",
    "            a = c\n",
    "            if showmat == True:\n",
    "                for i in a:\n",
    "                    print(f'{i} \\n')\n",
    "            else:\n",
    "                pass\n",
    "            return a"
   ]
  },
  {
   "cell_type": "code",
   "execution_count": 3,
   "id": "acff3ce0",
   "metadata": {},
   "outputs": [
    {
     "name": "stdout",
     "output_type": "stream",
     "text": [
      "Enter the number of rows:\n",
      " 2\n",
      "Enter the number of columns: \n",
      "2\n",
      "Enter the 1,1-th entry :\n",
      " 1\n",
      "Enter the 1,2-th entry :\n",
      " 2\n",
      "Enter the 2,1-th entry :\n",
      " 3\n",
      "Enter the 2,2-th entry :\n",
      " 4\n",
      "[1.0, 2.0] \n",
      "\n",
      "[3.0, 4.0] \n",
      "\n"
     ]
    }
   ],
   "source": [
    "m = Matrix(-1,2, showmat = True)"
   ]
  },
  {
   "cell_type": "markdown",
   "id": "a9b8a0b4",
   "metadata": {},
   "source": [
    "## Matrix Arithmetic\n",
    "\n",
    "**Addition and subtraction** of matrices with the same dimensions is performed in an element-wise manner, that is, for two $m \\times n$ matrices $A$ and $B$, \n",
    "\n",
    "$A - B = C \\in \\mathbb{C}^{m \\times n}: c_{i,j} = a_{i,j} - b_{i,j} $,\n",
    "\n",
    "$A + B = C \\in \\mathbb{C}^{m \\times n}: c_{i,j} = a_{i,j} + b_{i,j} $ \n",
    "\n",
    "**Multiplication** of matrices is performed in the following manner:\n",
    "\n",
    "For a matrix $X \\in \\mathbb{C}^{m \\times n}$ and a matrix $Y \\in \\mathbb{C}^{n \\times m}$, \n",
    "\n",
    "$ X \\times Y = Z \\in \\mathbb{C}^{m \\times m}: c_{i,j} = \\sum_{i,j=1}^{m,n} x_{i,j} \\cdot y_{i,j} $\n",
    "\n",
    "**Division** of matrices in defined as multiplication with the inverse, that is, for **square** $m \\times m$ matrices $A$ and $B$, division is defined by:\n",
    "\n",
    "$ A / B = \\frac{A}{B} = A \\times B^{-1} = C \\in \\mathbb{C}^{m\\times m} $\n",
    "\n",
    "where $B^{-1}$ is the inverse matrix of $B$, that is, a matrix which satisfies:\n",
    "\n",
    "$ B \\times B^{-1} = I = \\mathbb{1}$ \n",
    "\n",
    "where $I \\in \\mathbb{C}^{m\\times m}$ is the identity matrix: \n",
    "\n",
    "$ I = \\begin{bmatrix}\n",
    "    1 & 0 & ... & 0\\\\\n",
    "    0 & 1 & ... & 0\\\\\n",
    "    \\vdots & \\ddots & ... & 0 \\\\ \n",
    "    0 & ... & ... & 1 \n",
    "    \\end{bmatrix} $\n",
    "    \n",
    "Otherwise defined as $I \\in \\mathbb{C}^{m \\times m} : I_{i,j} = 1  \\ \\text{for} \\ i=j, 0 \\ \\text{for} \\ i \\neq j$.\n",
    "\n",
    "Matrix division is defined for square matrices only, but it is possible to find a **pseudoinverse** of a non-square matrix, which will be discussed later."
   ]
  },
  {
   "cell_type": "code",
   "execution_count": 5,
   "id": "ed74da68",
   "metadata": {},
   "outputs": [
    {
     "name": "stdout",
     "output_type": "stream",
     "text": [
      "Enter the 1,1-th entry :\n",
      " 5\n",
      "Enter the 1,2-th entry :\n",
      " 6\n",
      "Enter the 2,1-th entry :\n",
      " 7\n",
      "Enter the 2,2-th entry :\n",
      " 8\n",
      "[5.0, 6.0] \n",
      "\n",
      "[7.0, 8.0] \n",
      "\n"
     ]
    }
   ],
   "source": [
    "n = Matrix(2,2, showmat = True)"
   ]
  },
  {
   "cell_type": "code",
   "execution_count": 6,
   "id": "80cdb745",
   "metadata": {},
   "outputs": [
    {
     "name": "stdout",
     "output_type": "stream",
     "text": [
      "[6.0, 8.0] \n",
      "\n",
      "[10.0, 12.0] \n",
      "\n"
     ]
    }
   ],
   "source": [
    "a = m.add(n)"
   ]
  },
  {
   "cell_type": "code",
   "execution_count": 7,
   "id": "eb1ac89d",
   "metadata": {},
   "outputs": [
    {
     "name": "stdout",
     "output_type": "stream",
     "text": [
      "[4.0, 4.0] \n",
      "\n",
      "[4.0, 4.0] \n",
      "\n"
     ]
    }
   ],
   "source": [
    "b = n.subtract(m)"
   ]
  },
  {
   "cell_type": "code",
   "execution_count": 8,
   "id": "cf0f84b3",
   "metadata": {},
   "outputs": [
    {
     "name": "stdout",
     "output_type": "stream",
     "text": [
      "[5.0, 14.0] \n",
      "\n",
      "[18.0, 32.0] \n",
      "\n"
     ]
    }
   ],
   "source": [
    "c = m.multiply(n)"
   ]
  },
  {
   "cell_type": "code",
   "execution_count": 9,
   "id": "42c2c4dd",
   "metadata": {},
   "outputs": [
    {
     "data": {
      "text/plain": [
       "[[1.0, 2.0], [3.0, 4.0]]"
      ]
     },
     "execution_count": 9,
     "metadata": {},
     "output_type": "execute_result"
    }
   ],
   "source": [
    "m.matrixc"
   ]
  },
  {
   "cell_type": "code",
   "execution_count": 10,
   "id": "4e756a94",
   "metadata": {},
   "outputs": [
    {
     "data": {
      "text/plain": [
       "[[5.0, 6.0], [7.0, 8.0]]"
      ]
     },
     "execution_count": 10,
     "metadata": {},
     "output_type": "execute_result"
    }
   ],
   "source": [
    "n.matrixc"
   ]
  },
  {
   "cell_type": "markdown",
   "id": "a4ae183f",
   "metadata": {},
   "source": [
    "## Matrix Operations\n",
    "### Transpose\n",
    "Transpose of a matrix $A$ is the operation of switching the rows and columns of the matrix, denoted by $A^T$:\n",
    "\n",
    "$ A \\in C^{m \\times n} \\implies A^T \\in C^{n \\times m} $"
   ]
  },
  {
   "cell_type": "code",
   "execution_count": null,
   "id": "8d2cb55a",
   "metadata": {},
   "outputs": [],
   "source": []
  }
 ],
 "metadata": {
  "kernelspec": {
   "display_name": "Python 3 (ipykernel)",
   "language": "python",
   "name": "python3"
  },
  "language_info": {
   "codemirror_mode": {
    "name": "ipython",
    "version": 3
   },
   "file_extension": ".py",
   "mimetype": "text/x-python",
   "name": "python",
   "nbconvert_exporter": "python",
   "pygments_lexer": "ipython3",
   "version": "3.10.2"
  }
 },
 "nbformat": 4,
 "nbformat_minor": 5
}
